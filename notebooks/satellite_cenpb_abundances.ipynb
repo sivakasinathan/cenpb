{
 "cells": [
  {
   "cell_type": "markdown",
   "metadata": {},
   "source": [
    "### Abundances of satellites and CENP-B boxes"
   ]
  },
  {
   "cell_type": "code",
   "execution_count": 1,
   "metadata": {
    "scrolled": false
   },
   "outputs": [
    {
     "name": "stdout",
     "output_type": "stream",
     "text": [
      "Populating the interactive namespace from numpy and matplotlib\n"
     ]
    }
   ],
   "source": [
    "from __future__ import division\n",
    "%pylab inline\n",
    "import seaborn as sns\n",
    "sns.set_style('ticks')\n",
    "sns.set_context('paper')\n",
    "\n",
    "species = ['homo_sapiens','pan_troglodytes','pan_paniscus','gorilla_gorilla','gorilla_berengei',\n",
    "          'pongo_abelii','pongo_pygmaeus','chlorocebus_sabaeus','chlorocebus_pygerythrus','chlorocebus_aethiops','macaca_mulatta','macaca_fascicularis',\n",
    "          'papio_anubis']\n",
    "\n",
    "# cols = ['#e41a1c']*11 + ['#377eb8']*7 + ['#a65628']*4\n",
    "cols = ['#e41a1c']*7 + ['#377eb8']*6\n",
    "\n",
    "def parse_data(fn):\n",
    "    \"\"\"file format: species count total ratio\n",
    "    return dict of ratios indexed by species.\"\"\"\n",
    "    d = {}\n",
    "    with open(fn,'r') as f:\n",
    "        for line in f:\n",
    "            if '#' in line:\n",
    "                continue\n",
    "            line = line.rstrip().split()\n",
    "            name=line[0]\n",
    "            ratio=float(line[-1])\n",
    "            d[name] = ratio\n",
    "    return d"
   ]
  },
  {
   "cell_type": "code",
   "execution_count": 58,
   "metadata": {},
   "outputs": [
    {
     "data": {
      "image/png": "[encoded data removed]",
      "text/plain": [
       "<matplotlib.figure.Figure at 0x11b0cefd0>"
      ]
     },
     "metadata": {},
     "output_type": "display_data"
    }
   ],
   "source": [
    "# CENP-B in unfiltered WGS reads\n",
    "cb_total = parse_data('../data/cenp_b_ext.counts.txt')\n",
    "\n",
    "plt.figure(figsize=(1.5,5.05))\n",
    "\n",
    "x = np.arange(len(species))\n",
    "y1 = np.array([cb_total[s] for s in species[::-1]])\n",
    "barlist = plt.barh(x,y1,facecolor='black',height=0.4)\n",
    "plt.yticks([])\n",
    "plt.xticks([0,0.005,0.01],['0','0.5','1'],size=10)\n",
    "plt.xlabel('Fraction of\\nWGS reads ('+r'$10^{-2}$'+')',size=10)\n",
    "# plt.ticklabel_format(axis='x',style='sci',scilimits=(0,1))\n",
    "plt.title('CENP-B boxes',size=12)\n",
    "\n",
    "for i,c in enumerate(cols[::-1]):\n",
    "    bar = barlist[i]\n",
    "    bar.set_linewidth(2)\n",
    "    bar.set_edgecolor('black')\n",
    "    bar.set_facecolor(c)\n",
    "sns.despine(left=True)\n",
    "plt.savefig('../figures/primate_cenpb.genome.abund.svg')"
   ]
  },
  {
   "cell_type": "code",
   "execution_count": 43,
   "metadata": {
    "scrolled": false
   },
   "outputs": [
    {
     "data": {
      "image/png": "[encoded data removed]",
      "text/plain": [
       "<matplotlib.figure.Figure at 0x11b883290>"
      ]
     },
     "metadata": {},
     "output_type": "display_data"
    }
   ],
   "source": [
    "# CENP-B in filtered WGS reads (alphoid)\n",
    "cb_alphoid = parse_data('../data/cenp_b_ext.counts.alphoid.txt')\n",
    "\n",
    "\n",
    "plt.figure(figsize=(1.5,10))\n",
    "\n",
    "x = np.arange(len(species))\n",
    "y1 = np.array([cb_alphoid[s] for s in species[::-1]])\n",
    "barlist = plt.barh(x,y1,facecolor='black',height=0.4)\n",
    "plt.yticks([])\n",
    "plt.xticks(size=10)\n",
    "plt.xticks([0,0.05,0.1,0.15],['0','5','10','15'],size=10)\n",
    "plt.xlabel('Fraction of\\nalphoid reads ('+r'$10^{-2}$'+')',size=10)\n",
    "plt.title('Alphoid\\nCENP-B boxes',size=12)\n",
    "\n",
    "\n",
    "\n",
    "for i,c in enumerate(cols[::-1]):\n",
    "    bar = barlist[i]\n",
    "    bar.set_linewidth(2)\n",
    "    bar.set_edgecolor('black')\n",
    "    bar.set_facecolor(c)\n",
    "sns.despine(left=True)\n",
    "plt.savefig('../figures/primate_cenpb_alphoid.abund.svg')"
   ]
  },
  {
   "cell_type": "code",
   "execution_count": 59,
   "metadata": {},
   "outputs": [
    {
     "data": {
      "image/png": "[encoded data removed]",
      "text/plain": [
       "<matplotlib.figure.Figure at 0x11b9e7510>"
      ]
     },
     "metadata": {},
     "output_type": "display_data"
    }
   ],
   "source": [
    "# Alpha satellite content\n",
    "plt.figure(figsize=(1.5,5.05))\n",
    "alphoid = parse_data('../data/alphoid.counts.txt')\n",
    "\n",
    "x = np.arange(len(species))\n",
    "y1 = np.array([alphoid[s] for s in species[::-1]])\n",
    "barlist = plt.barh(x,y1,facecolor='black',height=0.4)\n",
    "plt.yticks([])\n",
    "plt.xticks([0,0.1,0.2],['0','1','2'],size=10)\n",
    "\n",
    "plt.xlabel('Fraction of\\nWGS reads ('+r'$10^{-1}$'+')',size=10)\n",
    "plt.title(r'$\\alpha$'+'-satellite',size=12)\n",
    "for i,c in enumerate(cols[::-1]):\n",
    "    bar = barlist[i]\n",
    "    bar.set_linewidth(2)\n",
    "    bar.set_edgecolor('black')\n",
    "    bar.set_facecolor(c)\n",
    "sns.despine(left=True)\n",
    "plt.savefig('figures/primate_sat.abund.svg')"
   ]
  },
  {
   "cell_type": "code",
   "execution_count": 45,
   "metadata": {},
   "outputs": [
    {
     "data": {
      "image/png": "[encoded data removed]",
      "text/plain": [
       "<matplotlib.figure.Figure at 0x114fc4f50>"
      ]
     },
     "metadata": {},
     "output_type": "display_data"
    }
   ],
   "source": [
    "# CENP-B in filtered WGS reads (alphoid)\n",
    "cb_alphoid = parse_data('../data/cenp_b_ext.counts.fimo.alphoid.txt')\n",
    "\n",
    "\n",
    "plt.figure(figsize=(1.5,10))\n",
    "\n",
    "x = np.arange(len(species))\n",
    "y1 = np.array([cb_alphoid[s] for s in species[::-1]])\n",
    "barlist = plt.barh(x,y1,facecolor='black',height=0.4)\n",
    "plt.yticks([])\n",
    "plt.xticks(size=12)\n",
    "plt.xticks([0,0.1,0.2,0.3],['0','10','20','30'],size=12)\n",
    "plt.xlabel('Fraction of\\nalphoid reads ('+r'$10^{-2}$'+')',size=12)\n",
    "plt.title('Alphoid CENP-B\\nboxes (FIMO)',size=14)\n",
    "\n",
    "\n",
    "\n",
    "for i,c in enumerate(cols[::-1]):\n",
    "    bar = barlist[i]\n",
    "    bar.set_linewidth(2)\n",
    "    bar.set_edgecolor('black')\n",
    "    bar.set_facecolor(c)\n",
    "sns.despine(left=True)\n",
    "plt.savefig('../figures/primate_cenpb_alphoid.fimo.abund.svg')"
   ]
  },
  {
   "cell_type": "code",
   "execution_count": 39,
   "metadata": {},
   "outputs": [
    {
     "data": {
      "image/png": "[encoded data removed]",
      "text/plain": [
       "<matplotlib.figure.Figure at 0x114d36750>"
      ]
     },
     "metadata": {},
     "output_type": "display_data"
    }
   ],
   "source": [
    "# CENP-B in filtered WGS reads (alphoid)\n",
    "\n",
    "clusts = parse_data('../data/clusters.txt')\n",
    "\n",
    "plt.figure(figsize=(1.5,6))\n",
    "\n",
    "x = np.arange(len(species))\n",
    "y1 = np.array([clusts[s] for s in species[::-1]])\n",
    "barlist = plt.barh(x,y1,facecolor='black',height=0.4)\n",
    "plt.yticks([])\n",
    "plt.xticks(size=12)\n",
    "plt.xticks([2,6,10,14,18],['2','6','10','14','18'],size=12)\n",
    "plt.xlim(2,19)\n",
    "plt.xlabel('Number of clusters',size=12)\n",
    "plt.title('Array complexity',size=16)\n",
    "\n",
    "\n",
    "\n",
    "for i,c in enumerate(cols[::-1]):\n",
    "    bar = barlist[i]\n",
    "    bar.set_linewidth(2)\n",
    "    bar.set_edgecolor('black')\n",
    "    bar.set_facecolor(c)\n",
    "sns.despine(left=True)\n",
    "plt.savefig('../figures/primate_clusters.svg')"
   ]
  },
  {
   "cell_type": "code",
   "execution_count": 49,
   "metadata": {},
   "outputs": [
    {
     "data": {
      "image/png": "[encoded data removed]",
      "text/plain": [
       "<matplotlib.figure.Figure at 0x11a3fba50>"
      ]
     },
     "metadata": {},
     "output_type": "display_data"
    }
   ],
   "source": [
    "plt.figure(figsize=(1.25,0.8))\n",
    "\n",
    "species = ['wgs','masat','misat']\n",
    "cols = ['#1f78b4','#e41a1c']\n",
    "delta=0.1\n",
    "width =0.4\n",
    "mouse = parse_data('../data/mouse.cenp_b_ext.counts.txt')\n",
    "x = np.arange(len(species)-1)\n",
    "y1 = np.array([mouse[s] for s in species[::-1]])\n",
    "y1 = y1[:-1]/y1[-1]\n",
    "barlist = plt.barh(x,y1,facecolor='black',height=width)\n",
    "plt.xticks([0,300])\n",
    "# plt.xticks([0,0.25,0.5],['0','25','50'],size=14)\n",
    "plt.xlabel('Fold enrichment\\n(vs. WGS)',size=10)\n",
    "plt.title('CENP-B box\\nabundance',size=12)\n",
    "plt.yticks(x,['MiSat','MaSat'],size=12)\n",
    "plt.tick_params(axis='y',length=0)\n",
    "\n",
    "for i,c in enumerate(cols[::-1]):\n",
    "    bar = barlist[i]\n",
    "    bar.set_linewidth(2)\n",
    "    bar.set_edgecolor('black')\n",
    "    bar.set_facecolor(c)\n",
    "sns.despine(left=True,bottom=False,offset=5)\n",
    "plt.xticks(size=10)\n",
    "\n",
    "\n",
    "\n",
    "# \n",
    "plt.savefig('../figures/mouse_cenpb.abund.svg')"
   ]
  },
  {
   "cell_type": "code",
   "execution_count": 50,
   "metadata": {},
   "outputs": [
    {
     "data": {
      "image/png": "[encoded data removed]",
      "text/plain": [
       "<matplotlib.figure.Figure at 0x11a567150>"
      ]
     },
     "metadata": {},
     "output_type": "display_data"
    }
   ],
   "source": [
    "plt.figure(figsize=(1.25,0.8))\n",
    "\n",
    "species = ['masat','misat']\n",
    "cols = ['#1f78b4','#e41a1c']\n",
    "delta=0.1\n",
    "width =0.4\n",
    "mouse = parse_data('../data/mouse.sat_counts.txt')\n",
    "x = np.arange(len(species))\n",
    "y1 = np.array([mouse[s] for s in species])\n",
    "# y1 = y1[:-1]/y1[-1]\n",
    "barlist = plt.barh(x,y1[::-1],facecolor='black',height=width)\n",
    "# plt.xticks([0,300])\n",
    "plt.xticks([0,0.1],['0','1.1'],size=10)\n",
    "plt.xlabel('Fold enrichment\\n(vs. WGS)',size=10)\n",
    "plt.title('Satellite\\nabundance',size=12)\n",
    "plt.yticks(x,['MiSat','MaSat'],size=12)\n",
    "plt.tick_params(axis='y',length=0)\n",
    "\n",
    "for i,c in enumerate(cols[::-1]):\n",
    "    bar = barlist[i]\n",
    "    bar.set_linewidth(2)\n",
    "    bar.set_edgecolor('black')\n",
    "    bar.set_facecolor(c)\n",
    "sns.despine(left=True,bottom=False,offset=5)\n",
    "plt.xticks(size=10)\n",
    "\n",
    "\n",
    "\n",
    "# \n",
    "plt.savefig('../figures/mouse_sat.abund.svg')"
   ]
  }
 ],
 "metadata": {
  "kernelspec": {
   "display_name": "Python 2",
   "language": "python",
   "name": "python2"
  },
  "language_info": {
   "codemirror_mode": {
    "name": "ipython",
    "version": 2
   },
   "file_extension": ".py",
   "mimetype": "text/x-python",
   "name": "python",
   "nbconvert_exporter": "python",
   "pygments_lexer": "ipython2",
   "version": "2.7.16"
  }
 },
 "nbformat": 4,
 "nbformat_minor": 2
}
