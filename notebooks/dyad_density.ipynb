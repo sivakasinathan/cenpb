{
 "cells": [
  {
   "cell_type": "markdown",
   "metadata": {},
   "source": [
    "### Analysis of dyad symmetries in centromeric and noncentromeric regions\n",
    "\n",
    "Compare dyads detected using EMBOSS palindrome"
   ]
  },
  {
   "cell_type": "code",
   "execution_count": 12,
   "metadata": {},
   "outputs": [
    {
     "name": "stdout",
     "output_type": "stream",
     "text": [
      "Populating the interactive namespace from numpy and matplotlib\n"
     ]
    }
   ],
   "source": [
    "from __future__ import division\n",
    "%pylab inline\n",
    "import glob\n",
    "import seaborn as sns\n",
    "import matplotlib.ticker as ticker\n",
    "import re\n",
    "sns.set_style('ticks')\n",
    "sns.set_context('paper')\n",
    "from scipy.stats import ks_2samp\n",
    "\n",
    "def iter_palindrome(fn):\n",
    "    \"\"\"Generator -- parse EMBOSS palindrome output\"\"\"\n",
    "    with open(fn,'r') as f:\n",
    "        coords = []\n",
    "        seqs = []\n",
    "        name = None\n",
    "        out = False\n",
    "\n",
    "        for line in f:\n",
    "            line = line.rstrip()\n",
    "            if 'Palindromes of' in line:\n",
    "                name = line.split()[2]\n",
    "            elif ':' in line or len(line) == 0:\n",
    "                continue\n",
    "            else:\n",
    "                if '|' in line:\n",
    "                    nm = line.count('|')\n",
    "                    out = True\n",
    "                    continue\n",
    "                else:\n",
    "                    line = line.split()\n",
    "                    s,e = int(line[0]),int(line[-1])\n",
    "                    if s > e:\n",
    "                        s,e = e,s\n",
    "                    s -= 1\n",
    "                    coords.append((s,e))\n",
    "                    seqs.append(line[1].upper())\n",
    "                    \n",
    "                if out:\n",
    "                    \n",
    "                    G = coords[1][0]-coords[0][1]\n",
    "                    \n",
    "                    for (a,b),c in zip(coords,seqs):\n",
    "                        yield name,a,b,c,nm/len(c),G\n",
    "                        \n",
    "                    out = False\n",
    "                    coords = []\n",
    "                    seqs = []\n",
    "                    \n",
    "\n",
    "def pal2mat(fn,minstem=5,maxstem=20,mingap=0,maxgap=20,pct_id=0.8,pidscale=False,norm=True):\n",
    "    \"\"\"Create a matrix of stem length x gap size from an EMBOSS palindrome file\"\"\"\n",
    "    mat = np.zeros((maxstem-minstem+1,maxgap-mingap+1))\n",
    "    \n",
    "    nreads = 0\n",
    "    for _,s,e,seq,pi,G in iter_palindrome(fn):\n",
    "        nreads+=1\n",
    "        L = len(seq)\n",
    "        \n",
    "        if (L < minstem or L > maxstem):\n",
    "            continue\n",
    "        if (G < mingap or G > maxgap):\n",
    "            continue\n",
    "        if pi < pct_id:\n",
    "            continue\n",
    "        \n",
    "        if not pidscale:\n",
    "            mat[L-minstem,G-mingap] += 1\n",
    "        else:\n",
    "            mat[L-minstem,G-mingap] += pct_id\n",
    "    \n",
    "    return mat, nreads\n",
    "\n",
    "def parse_data(fns):\n",
    "    \"\"\"Parse EMBOSS palindorme data from a list of files; note that\n",
    "    the length of the region must be encoded in the filename, for example:\n",
    "    gi_30988105_gb_AACF01000002.1__43510_43710.emboss.txt\"\"\"\n",
    "    data = []\n",
    "    for fn in fns:\n",
    "        sp = fn.split(\"_\")\n",
    "        L = int(sp[-1].split('.')[0]) - int(sp[-2])\n",
    "        x = 0\n",
    "        for name,s,e,seq,cvg,gap in iter_palindrome(fn):\n",
    "            x += len(seq)\n",
    "        data.append(x/L)\n",
    "    return data\n",
    "\n",
    "def format_horiz_bar(ax,data,labels,yticklabels=[0,1],xlabel=None,xlim=None,xticks=None,\n",
    "                     colors=['black','white'],iqrscale=1.75):\n",
    "    ml = ticker.MaxNLocator()\n",
    "    ml._min_n_ticks=2\n",
    "    ml._nbins=2\n",
    "    ax.xaxis.set_major_locator(ml)\n",
    "    \n",
    "    mf = ticker.ScalarFormatter(useMathText=True)\n",
    "    mf.set_powerlimits((-2,2))\n",
    "    ax.xaxis.set_major_formatter(mf)\n",
    "    \n",
    "    bp = sns.boxplot(x=data,y=labels,ax=ax,palette=colors,fliersize=0,width=0.75,orient='h')\n",
    "    \n",
    "    if xlim is not None:\n",
    "        ax.set_xlim(xlim)\n",
    "    else:\n",
    "        lnames = set(labels)\n",
    "        \n",
    "        upper = -np.inf\n",
    "        \n",
    "        for ln in lnames:\n",
    "            subs = data[labels == ln]\n",
    "            if len(subs) > 3:\n",
    "                ql,qu = np.percentile(subs,q=[25,75])\n",
    "                iqr = qu-ql\n",
    "                lu = qu+iqrscale*iqr\n",
    "            else:\n",
    "                lu = np.max(data)\n",
    "            if lu > upper:\n",
    "                upper = lu\n",
    "                \n",
    "        ax.set_xlim(np.min(data),upper)\n",
    "        \n",
    "    plt.draw()\n",
    "    \n",
    "    if xlabel is not None:\n",
    "        old_label = 'SIST score ()'\n",
    "        try:\n",
    "            units =  old_label[old_label.index(\"(\") + 1:old_label.rindex(\")\")]\n",
    "        except:\n",
    "            units = \"\"\n",
    "        label = old_label.replace(\"({})\".format(units), \"\")\n",
    "        exponent_text = ax.xaxis.get_offset_text().get_text().encode('utf-8')\n",
    "        if len(exponent_text) > 1:\n",
    "            exponent_text = re.sub(\"\\xE2\\x88\\x92\", \"-\", exponent_text)\n",
    "            exponent_text.encode('ascii')\n",
    "            exponent_text = exponent_text.replace(\"\\\\times\", \"\")\n",
    "            newlab = \"{} ({} {})\".format(label, exponent_text, units)\n",
    "        else:\n",
    "            newlab = xlabel\n",
    "        ax.xaxis.set_label_text(newlab,size=10)\n",
    "        ax.xaxis.offsetText.set_visible(False)\n",
    "    \n",
    "    ax.set_yticklabels(yticklabels,size=12)\n",
    "    \n",
    "    sns.despine(left=True,offset=5)\n",
    "    ax.tick_params('y',length=0)\n",
    "    ax.xaxis.set_tick_params(labelsize=10,length=4)\n",
    "\n",
    "def format_vert_bar(ax,data,labels,xticklabels=[0,1],ylabel=None,ylim=None,yticks=None,\n",
    "                     colors=['black','white'],iqrscale=1.75):\n",
    "    ml = ticker.MaxNLocator()\n",
    "    ml._min_n_ticks=2\n",
    "    ml._nbins=2\n",
    "    ax.yaxis.set_major_locator(ml)\n",
    "    \n",
    "    mf = ticker.ScalarFormatter(useMathText=True)\n",
    "    mf.set_powerlimits((-2,2))\n",
    "    ax.yaxis.set_major_formatter(mf)\n",
    "    \n",
    "    bp = sns.boxplot(y=data,x=labels,ax=ax,palette=colors,fliersize=0,width=0.4,orient='v')\n",
    "    \n",
    "    if ylim is not None:\n",
    "        ax.set_ylim(ylim)\n",
    "    else:\n",
    "        lnames = set(labels)\n",
    "        \n",
    "        upper = -np.inf\n",
    "        \n",
    "        for ln in lnames:\n",
    "            subs = data[labels == ln]\n",
    "            if len(subs) > 3:\n",
    "                ql,qu = np.percentile(subs,q=[25,75])\n",
    "                iqr = qu-ql\n",
    "                lu = qu+iqrscale*iqr\n",
    "            else:\n",
    "                lu = np.max(data)\n",
    "            if lu > upper:\n",
    "                upper = lu\n",
    "                \n",
    "        ax.set_ylim(np.min(data),upper)\n",
    "        \n",
    "    plt.draw()\n",
    "    \n",
    "    if yticks is not None:\n",
    "        ax.set_yticks(yticks)\n",
    "    \n",
    "    \n",
    "    if ylabel is not None:\n",
    "        old_label = 'Score ()'\n",
    "        try:\n",
    "            units =  old_label[old_label.index(\"(\") + 1:old_label.rindex(\")\")]\n",
    "        except:\n",
    "            units = \"\"\n",
    "        label = old_label.replace(\"({})\".format(units), \"\")\n",
    "        exponent_text = ax.yaxis.get_offset_text().get_text().encode('utf-8')\n",
    "        if len(exponent_text) > 1:\n",
    "            exponent_text = re.sub(\"\\xE2\\x88\\x92\", \"-\", exponent_text)\n",
    "            exponent_text.encode('ascii')\n",
    "            exponent_text = exponent_text.replace(\"\\\\times\", \"\")\n",
    "            newlab = \"{} ({} {})\".format(label, exponent_text, units)\n",
    "        else:\n",
    "            newlab = ylabel\n",
    "        ax.yaxis.set_label_text(newlab,size=9)\n",
    "        ax.yaxis.offsetText.set_visible(False)\n",
    "    \n",
    "    ax.set_xticklabels(xticklabels,size=10)\n",
    "    \n",
    "    sns.despine(bottom=True,offset=5)\n",
    "    ax.tick_params('x',length=0)\n",
    "    ax.yaxis.set_tick_params(labelsize=9,length=4)\n",
    "    \n",
    "# Define colors:\n",
    "blue = '#1f78b4'\n",
    "brown = '#b15928'\n",
    "gray = '#d9d9d9'\n",
    "dark_gray = '#252525'\n",
    "# dark_gray = '#d9d9d9'\n",
    "# gray = 'white'"
   ]
  },
  {
   "cell_type": "markdown",
   "metadata": {},
   "source": [
    "#### Plot human cen vs. random"
   ]
  },
  {
   "cell_type": "code",
   "execution_count": 16,
   "metadata": {},
   "outputs": [
    {
     "data": {
      "image/png": "[encoded data removed]",
      "text/plain": [
       "<matplotlib.figure.Figure at 0x1126af690>"
      ]
     },
     "metadata": {},
     "output_type": "display_data"
    }
   ],
   "source": [
    "hue = []\n",
    "data = []\n",
    "names = []\n",
    "minl = 0\n",
    "\n",
    "fns = glob.glob('../data/palindrome/human/bacs/*.txt')\n",
    "sdata = parse_data(fns)\n",
    "data.extend(sdata)\n",
    "hue.extend([1]*len(sdata))\n",
    "names.extend(['Cen']*len(sdata))\n",
    "\n",
    "fns = glob.glob('../data/palindrome/human/matched_random/*.txt')    \n",
    "sdata = parse_data(fns)\n",
    "data.extend(sdata)\n",
    "hue.extend([0]*len(sdata))\n",
    "names.extend(['Control']*len(sdata))\n",
    "\n",
    "plt.figure(figsize=(1,1.25))\n",
    "ax = plt.subplot(111)\n",
    "\n",
    "data = np.array(data)\n",
    "names = np.array(names)\n",
    "colors = [dark_gray,gray]\n",
    "# format_horiz_bar(ax,data,names,yticklabels=['Cen','Control'],colors=colors,xlabel='Dyad density',xlim=(0.15,0.35))\n",
    "format_vert_bar(ax,data,names,xticklabels=['Cen','Control'],colors=colors,ylabel='Density',\n",
    "                ylim=(0.15,0.35),yticks=[0.15,0.35])\n",
    "\n",
    "\n",
    "\n",
    "ax.set_title('Dyad\\nsymmetry',size=12)\n",
    "plt.savefig('../figures/human_cen_dyad_symmetry.svg')\n",
    "    "
   ]
  },
  {
   "cell_type": "markdown",
   "metadata": {},
   "source": [
    "#### Plot human neocen vs. random"
   ]
  },
  {
   "cell_type": "code",
   "execution_count": 14,
   "metadata": {},
   "outputs": [
    {
     "data": {
      "image/png": "[encoded data removed]",
      "text/plain": [
       "<matplotlib.figure.Figure at 0x113f43690>"
      ]
     },
     "metadata": {},
     "output_type": "display_data"
    }
   ],
   "source": [
    "hue = []\n",
    "data = []\n",
    "names = []\n",
    "minl = 0\n",
    "\n",
    "fns = glob.glob('../data/palindrome/human/neocen/*.txt')\n",
    "sdata = parse_data(fns)\n",
    "data.extend(sdata)\n",
    "hue.extend([1]*len(sdata))\n",
    "names.extend(['Neo']*len(sdata))\n",
    "\n",
    "fns = glob.glob('../data/palindrome/human/matched_random/*.txt')    \n",
    "sdata = parse_data(fns)\n",
    "data.extend(sdata)\n",
    "hue.extend([0]*len(sdata))\n",
    "names.extend(['Control']*len(sdata))\n",
    "\n",
    "plt.figure(figsize=(1,1.25))\n",
    "ax = plt.subplot(111)\n",
    "\n",
    "data = np.array(data)\n",
    "names = np.array(names)\n",
    "colors = [dark_gray,gray]\n",
    "format_vert_bar(ax,data,names,xticklabels=['Neo','Control'],colors=colors,ylabel='Density',\n",
    "                ylim=(0.15,0.35),yticks=(0.15,0.35))\n",
    "\n",
    "ax.set_title('Dyad symmetry',size=12)\n",
    "plt.savefig('../figures/human_neocen_dyad_density.svg')\n",
    "    "
   ]
  },
  {
   "cell_type": "code",
   "execution_count": 8,
   "metadata": {},
   "outputs": [
    {
     "data": {
      "image/png": "[encoded data removed]",
      "text/plain": [
       "<matplotlib.figure.Figure at 0x111d021d0>"
      ]
     },
     "metadata": {},
     "output_type": "display_data"
    }
   ],
   "source": [
    "names = []\n",
    "hue = []\n",
    "data = []\n",
    "\n",
    "fns = glob.glob('../data/palindrome/mouse/misat/*.txt')\n",
    "sdata = parse_data(fns)\n",
    "data.extend(sdata)\n",
    "hue.extend([1]*len(sdata))\n",
    "names.extend(['Cen']*len(sdata))\n",
    "\n",
    "fns = glob.glob('../data/palindrome/mouse/misat_matched_random/*.txt')\n",
    "sdata = parse_data(fns)\n",
    "data.extend(sdata)\n",
    "hue.extend([0]*len(sdata))\n",
    "names.extend(['Control']*len(sdata))\n",
    "\n",
    "\n",
    "plt.figure(figsize=(1,1.25))\n",
    "ax = plt.subplot(111)\n",
    "\n",
    "data = np.array(data)\n",
    "names = np.array(names)\n",
    "colors = [dark_gray,gray]\n",
    "format_vert_bar(ax,data,names,xticklabels=['Cen','Control'],\n",
    "                 colors=colors,ylabel='Density',ylim=(-0.025,0.55),yticks=(0,0.55))\n",
    "\n",
    "ax.set_title('Dyad symmetry',size=12)\n",
    "plt.savefig('../figures/mouse_dyad_symmetry.svg')"
   ]
  },
  {
   "cell_type": "markdown",
   "metadata": {},
   "source": [
    "#### Plot chicken cen vs. random"
   ]
  },
  {
   "cell_type": "code",
   "execution_count": 9,
   "metadata": {},
   "outputs": [
    {
     "data": {
      "image/png": "[encoded data removed]",
      "text/plain": [
       "<matplotlib.figure.Figure at 0x11200d5d0>"
      ]
     },
     "metadata": {},
     "output_type": "display_data"
    }
   ],
   "source": [
    "names = []\n",
    "hue = []\n",
    "data = []\n",
    "\n",
    "fns = glob.glob('../data/palindrome/chicken/unique_cen/*.txt')\n",
    "sdata = parse_data(fns)\n",
    "data.extend(sdata)\n",
    "hue.extend([1]*len(sdata))\n",
    "names.extend(['Cen']*len(sdata))\n",
    "\n",
    "fns = glob.glob('../data/palindrome/chicken/matched_random/*.txt')\n",
    "sdata = parse_data(fns)\n",
    "data.extend(sdata)\n",
    "hue.extend([0]*len(sdata))\n",
    "names.extend(['Control']*len(sdata))\n",
    "\n",
    "\n",
    "plt.figure(figsize=(1,1.25))\n",
    "ax = plt.subplot(111)\n",
    "\n",
    "data = np.array(data)\n",
    "names = np.array(names)\n",
    "colors = [dark_gray,gray]\n",
    "format_vert_bar(ax,data,names,xticklabels=['Cen','Control'],\n",
    "                 colors=colors,ylabel='Density',ylim=(0.15,0.35),yticks=(0.15,0.35))\n",
    "\n",
    "ax.set_title('Dyad symmetry',size=12)\n",
    "plt.savefig('../figures/chicken_dyad_symmetry.svg')"
   ]
  },
  {
   "cell_type": "code",
   "execution_count": 14,
   "metadata": {},
   "outputs": [
    {
     "data": {
      "image/png": "[encoded data removed]",
      "text/plain": [
       "<matplotlib.figure.Figure at 0x107e47210>"
      ]
     },
     "metadata": {},
     "output_type": "display_data"
    }
   ],
   "source": [
    "names = []\n",
    "hue = []\n",
    "data = []\n",
    "\n",
    "fns = glob.glob('../data/palindrome/agm/cen/*.txt')\n",
    "sdata = parse_data(fns)\n",
    "data.extend(sdata)\n",
    "hue.extend([1]*len(sdata))\n",
    "names.extend(['Cen']*len(sdata))\n",
    "\n",
    "fns = glob.glob('../data/palindrome/agm/random/*.txt')\n",
    "sdata = parse_data(fns)\n",
    "data.extend(sdata)\n",
    "hue.extend([0]*len(sdata))\n",
    "names.extend(['Control']*len(sdata))\n",
    "\n",
    "\n",
    "plt.figure(figsize=(1,1.25))\n",
    "ax = plt.subplot(111)\n",
    "\n",
    "data = np.array(data)\n",
    "names = np.array(names)\n",
    "colors = [dark_gray,gray]\n",
    "format_vert_bar(ax,data,names,xticklabels=['Cen','Control'],\n",
    "                 colors=colors,ylabel='Density',ylim=(-0.025,0.5),yticks=(0,0.5))\n",
    "\n",
    "ax.set_title('Dyad symmetry',size=12)\n",
    "plt.savefig('../figures/agm_dyad_symmetry.svg')"
   ]
  },
  {
   "cell_type": "code",
   "execution_count": 17,
   "metadata": {},
   "outputs": [
    {
     "data": {
      "text/plain": [
       "Ks_2sampResult(statistic=0.19514285714285706, pvalue=0.62821232025532081)"
      ]
     },
     "execution_count": 17,
     "metadata": {},
     "output_type": "execute_result"
    }
   ],
   "source": [
    "data = np.array(data)\n",
    "names = np.array(names)\n",
    "ks_2samp(data[names=='Cen'],data[names=='Control'])"
   ]
  },
  {
   "cell_type": "code",
   "execution_count": 22,
   "metadata": {},
   "outputs": [
    {
     "data": {
      "image/png": "[encoded data removed]",
      "text/plain": [
       "<matplotlib.figure.Figure at 0x1138d5bd0>"
      ]
     },
     "metadata": {},
     "output_type": "display_data"
    }
   ],
   "source": [
    "names = []\n",
    "hue = []\n",
    "data = []\n",
    "\n",
    "fns = glob.glob('../data/palindrome/chicken/neocen/*.txt')\n",
    "sdata = parse_data(fns)\n",
    "data.extend(sdata)\n",
    "hue.extend([1]*len(sdata))\n",
    "names.extend(['Neo']*len(sdata))\n",
    "\n",
    "fns = glob.glob('../data/palindrome/chicken/matched_random/*.txt')\n",
    "sdata = parse_data(fns)\n",
    "data.extend(sdata)\n",
    "hue.extend([0]*len(sdata))\n",
    "names.extend(['Control']*len(sdata))\n",
    "\n",
    "\n",
    "plt.figure(figsize=(1,1.25))\n",
    "ax = plt.subplot(111)\n",
    "\n",
    "data = np.array(data)\n",
    "names = np.array(names)\n",
    "colors = [dark_gray,gray]\n",
    "format_vert_bar(ax,data,names,xticklabels=['Neo','Control'],colors=colors,\n",
    "                 ylabel='Density',ylim=[0.18,0.36],yticks=[0.18,0.36])\n",
    "\n",
    "ax.set_title('Dyad symmetry',size=12)\n",
    "plt.savefig('../figures/chicken_neocen_dyad_symmetry.svg')"
   ]
  },
  {
   "cell_type": "markdown",
   "metadata": {},
   "source": [
    "#### Cerevisiae"
   ]
  },
  {
   "cell_type": "code",
   "execution_count": 27,
   "metadata": {},
   "outputs": [
    {
     "data": {
      "image/png": "[encoded data removed]",
      "text/plain": [
       "<matplotlib.figure.Figure at 0x1139c1410>"
      ]
     },
     "metadata": {},
     "output_type": "display_data"
    }
   ],
   "source": [
    "names = []\n",
    "hue = []\n",
    "data = []\n",
    "\n",
    "fns = glob.glob('../data/palindrome/sacCer2/sacCer2'+'_cen/*.txt')\n",
    "\n",
    "sdata = parse_data(fns)\n",
    "data.extend(sdata)\n",
    "hue.extend([1]*len(sdata))\n",
    "names.extend(['Cen']*len(sdata))\n",
    "\n",
    "fns = glob.glob('../data/palindrome/sacCer2/sacCer2'+'_random/*.txt')\n",
    "\n",
    "sdata = parse_data(fns)\n",
    "data.extend(sdata)\n",
    "hue.extend([0]*len(sdata))\n",
    "names.extend(['Control']*len(sdata))\n",
    "\n",
    "plt.figure(figsize=(1,1.25))\n",
    "ax = plt.subplot(111)\n",
    "\n",
    "data = np.array(data)\n",
    "names = np.array(names)\n",
    "colors = [dark_gray,gray]\n",
    "# format_horiz_bar(ax,data,names,yticklabels=['Cen','Control'],colors=colors,xlabel='Dyad density',xlim=[0,2])\n",
    "\n",
    "format_vert_bar(ax,data,names,xticklabels=['Cen','Control'],colors=colors,\n",
    "                 ylabel='Density',ylim=[-0.1,2],yticks=[0,2])\n",
    "\n",
    "ax.set_title('Dyad symmetry',size=12)\n",
    "plt.savefig('../figures/sc2_dyad_density.svg')"
   ]
  },
  {
   "cell_type": "code",
   "execution_count": 7,
   "metadata": {
    "collapsed": true
   },
   "outputs": [],
   "source": [
    "names = []\n",
    "hue = []\n",
    "data = []\n",
    "species = ['sacCer2','sacMik','sacKud','sacCas','sacDar']\n",
    "\n",
    "for spec in species:\n",
    "    fns = glob.glob('../data/palindrome/'+spec+ '/' + spec + '_random/*.txt')\n",
    "    \n",
    "    sdata = parse_data(fns)\n",
    "    data.extend(sdata)\n",
    "    hue.extend([0]*len(sdata))\n",
    "    names.extend([spec]*len(sdata))\n",
    "    \n",
    "    fns = glob.glob('../data/palindrome/'+spec+ '/' + spec + '_cen/*.txt')\n",
    "    sdata = parse_data(fns)\n",
    "    data.extend(sdata)\n",
    "    hue.extend([1]*len(sdata))\n",
    "    names.extend([spec]*len(sdata))"
   ]
  },
  {
   "cell_type": "code",
   "execution_count": 2,
   "metadata": {},
   "outputs": [],
   "source": [
    "names = []\n",
    "hue = []\n",
    "data = []\n",
    "species=['sacCer2','sacMik','sacKud','sacCas','sacDar']\n",
    "\n",
    "for spec in species:\n",
    "#     if spec == 'None':\n",
    "#         names.append(spec)\n",
    "#         hue.append('cen')\n",
    "#         data.append(None)\n",
    "#         continue\n",
    "        \n",
    "    fns = glob.glob('../data/palindrome/'+spec+ '/' + spec + '_random/*.txt')\n",
    "    for fn in fns:\n",
    "        sp = fn.split(\"_\")\n",
    "        L = int(sp[-1].split('.')[0]) - int(sp[-2])\n",
    "        x = 0\n",
    "        for name,s,e,seq,cvg,gap in iter_palindrome(fn):\n",
    "            x += len(seq)\n",
    "        data.append(x/L)\n",
    "        hue.append(0)\n",
    "        names.append(spec)\n",
    "    \n",
    "    fns = glob.glob('../data/palindrome/'+spec+ '/' + spec + '_cen/*.txt')\n",
    "        \n",
    "    for fn in fns:\n",
    "        sp = fn.split(\"_\")\n",
    "        L = int(sp[-1].split('.')[0]) - int(sp[-2])\n",
    "        x = 0\n",
    "        for name,s,e,seq,cvg,gap in iter_palindrome(fn):\n",
    "            x += len(seq)\n",
    "        data.append(x/L)\n",
    "        hue.append(1)\n",
    "        names.append(spec)\n",
    "        \n"
   ]
  },
  {
   "cell_type": "code",
   "execution_count": 11,
   "metadata": {},
   "outputs": [
    {
     "data": {
      "image/png": "[encoded data removed]",
      "text/plain": [
       "<matplotlib.figure.Figure at 0x10f1de990>"
      ]
     },
     "metadata": {},
     "output_type": "display_data"
    }
   ],
   "source": [
    "fig = plt.figure(figsize=(4,3))\n",
    "ax = fig.add_subplot(111)\n",
    "\n",
    "colors = ['#d9d9d9','#e31a1c']\n",
    "sns.boxplot(x=data,y=names,hue=hue,palette=colors,fliersize=0)\n",
    "# ax.set_xlim(-0.00001,0.0002)\n",
    "ax.ticklabel_format(axis='x', style='sci', scilimits=(-2,2),size=10)\n",
    "ax.set_yticklabels(['$\\it{S. cerevisiae}$',\n",
    "                    '$\\it{S. mikatae}$',\n",
    "                    '$\\it{S. kudriavzevii}$',\n",
    "                    '$\\it{S. dairenensis}$',\n",
    "                    '$\\it{S. castellii}$'],size=14)\n",
    "setp(ax.get_xticklabels(),size=12)\n",
    "ax.axes.yaxis.set_tick_params(length=0)\n",
    "ax.xaxis.get_offset_text().set_fontsize(12)\n",
    "ax.xaxis.set_ticklabels([0,'',0.5,'',1,'',1.5,''])\n",
    "ax.legend_.remove()\n",
    "ax.set_xlabel('Dyad density (length-normalized)',size=14)\n",
    "ax.hlines([0.5,1.5,2.5,3.5,4.5],0,1.75,linestyles='dotted',colors='grey')\n",
    "sns.despine(left=True,trim=True)"
   ]
  },
  {
   "cell_type": "code",
   "execution_count": 25,
   "metadata": {},
   "outputs": [
    {
     "data": {
      "image/png": "[encoded data removed]",
      "text/plain": [
       "<matplotlib.figure.Figure at 0x116940d50>"
      ]
     },
     "metadata": {},
     "output_type": "display_data"
    }
   ],
   "source": [
    "# # plt.figure(figsize=(2.5,4))\n",
    "# plt.figure(figsize=(3,1.5))\n",
    "\n",
    "# # color=['#e31a1c','black']\n",
    "# sns.boxplot(x=data,y=names,hue=hue,\n",
    "#               palette=['#e31a1c','grey'],fliersize=0,width=0.6)\n",
    "# # setp(plt.legend(),visible=False)\n",
    "# # plt.xticks([0.250,0.3,0.350],size=14)\n",
    "# plt.xticks([0,0.75,1.5],size=14)\n",
    "# plt.xlabel('Dyad density (length-normalized)',size=14)\n",
    "# sns.despine(bottom=False,trim=True,left=True)\n",
    "# plt.yticks([])\n",
    "# # plt.savefig('figures/yeast_cen_dyad_density.svg')\n",
    "\n",
    "\n",
    "fig = plt.figure(figsize=(4,3))\n",
    "ax = fig.add_subplot(111)\n",
    "\n",
    "colors = ['#d9d9d9','#e31a1c']\n",
    "sns.boxplot(x=data,y=names,hue=hue,palette=colors,fliersize=0)\n",
    "# ax.set_xlim(-0.00001,0.0002)\n",
    "ax.ticklabel_format(axis='x', style='sci', scilimits=(-2,2),size=10)\n",
    "ax.set_yticklabels(['$\\it{S. cerevisiae}$',\n",
    "                    '$\\it{S. mikatae}$',\n",
    "                    '$\\it{S. kudriavzevii}$',\n",
    "                    '$\\it{S. dairenensis}$',\n",
    "                    '$\\it{S. castellii}$'],size=14)\n",
    "setp(ax.get_xticklabels(),size=12)\n",
    "ax.axes.yaxis.set_tick_params(length=0)\n",
    "ax.xaxis.get_offset_text().set_fontsize(12)\n",
    "ax.xaxis.set_ticklabels([0,'',0.5,'',1,'',1.5,''])\n",
    "ax.legend_.remove()\n",
    "ax.set_xlabel('Dyad density (length-normalized)',size=14)\n",
    "ax.hlines([0.5,1.5,2.5,3.5,4.5],0,1.75,linestyles='dotted',colors='grey')\n",
    "sns.despine(left=True,trim=True)\n",
    "plt.savefig('../figures/yeasts_dyad_density.svg')"
   ]
  },
  {
   "cell_type": "code",
   "execution_count": 4,
   "metadata": {},
   "outputs": [
    {
     "data": {
      "text/plain": [
       "([], <a list of 0 Text yticklabel objects>)"
      ]
     },
     "execution_count": 4,
     "metadata": {},
     "output_type": "execute_result"
    },
    {
     "data": {
      "image/png": "[encoded data removed]",
      "text/plain": [
       "<matplotlib.figure.Figure at 0x10c98cfd0>"
      ]
     },
     "metadata": {},
     "output_type": "display_data"
    }
   ],
   "source": [
    "# plt.figure(figsize=(2.5,4))\n",
    "plt.figure(figsize=(3,1.5))\n",
    "\n",
    "# color=['#e31a1c','black']\n",
    "sns.stripplot(x=data[::-1],y=hue[::-1],s=6,jitter=0.2,\n",
    "              palette=['black','lightgrey'])\n",
    "sns.boxplot(x=data[::-1],y=hue[::-1],\n",
    "              palette=['#e31a1c','grey'],fliersize=0,width=0.6)\n",
    "# setp(plt.legend(),visible=False)\n",
    "# plt.xticks([0.250,0.3,0.350],size=14)\n",
    "plt.xticks([0,0.75,1.5],size=14)\n",
    "plt.xlabel('Dyad density (length-normalized)',size=14)\n",
    "sns.despine(bottom=False,trim=True,left=True)\n",
    "plt.yticks([])\n",
    "# plt.savefig('figures/yeast_cen_dyad_density.svg')"
   ]
  },
  {
   "cell_type": "code",
   "execution_count": 3,
   "metadata": {},
   "outputs": [],
   "source": [
    "names = []\n",
    "hue = []\n",
    "data = []\n",
    "minl = 0\n",
    "\n",
    "\n",
    "random = []\n",
    "bac = []\n",
    "neo = []\n",
    "\n",
    "\n",
    "fns = glob.glob('../data/palindrome/human/matched_random/*.txt')\n",
    "for fn in fns:\n",
    "#     print fn\n",
    "    x = 0\n",
    "    \n",
    "    sp = fn.split(\"_\")\n",
    "    L = int(sp[-1].split('.')[0]) - int(sp[-2])\n",
    "        \n",
    "    for name,s,e,seq,cvg,gap in iter_palindrome(fn):\n",
    "        if len(seq) > minl:\n",
    "            x += len(seq)\n",
    "    data.append(x/L)\n",
    "    hue.append('Random')\n",
    "    names.append('human')\n",
    "    \n",
    "    random.append(x/L)\n",
    "    \n",
    "#     if x > 2500:\n",
    "#         print fn\n",
    "\n",
    "\n",
    "fns = glob.glob('../data/palindrome/human/bacs/*.txt')\n",
    "\n",
    "for fn in fns:\n",
    "    sp = fn.split(\"_\")\n",
    "    L = int(sp[-1].split('.')[0]) - int(sp[-2])\n",
    "    \n",
    "    x = 0\n",
    "    for name,s,e,seq,cvg,gap in iter_palindrome(fn):\n",
    "        if len(seq) > minl:\n",
    "            x += len(seq)\n",
    "    data.append(x/L)\n",
    "    hue.append(r'$\\alpha$'+'-satellite')\n",
    "    names.append('human')\n",
    "    \n",
    "    \n",
    "    bac.append(x/L)\n",
    "\n",
    "fns = glob.glob('../data/palindrome/human/neocen/*.txt')\n",
    "\n",
    "for fn in fns:\n",
    "    sp = fn.split(\"_\")\n",
    "    L = int(sp[-1].split('.')[0]) - int(sp[-2])\n",
    "    x = 0\n",
    "    for name,s,e,seq,cvg,gap in iter_palindrome(fn):\n",
    "        if len(seq) > minl:\n",
    "            x += len(seq)\n",
    "    data.append(x/L)\n",
    "    hue.append('Neocentromere')\n",
    "    names.append('human')\n",
    "    \n",
    "    neo.append(x/L)\n",
    "    \n",
    "\n",
    "\n"
   ]
  },
  {
   "cell_type": "code",
   "execution_count": 4,
   "metadata": {},
   "outputs": [
    {
     "data": {
      "image/png": "[encoded data removed]",
      "text/plain": [
       "<matplotlib.figure.Figure at 0x103b422d0>"
      ]
     },
     "metadata": {},
     "output_type": "display_data"
    }
   ],
   "source": [
    "# plt.figure(figsize=(2.5,4))\n",
    "plt.figure(figsize=(3,1.5))\n",
    "\n",
    "# color=['#e31a1c','black']\n",
    "# sns.stripplot(x=data[::-1],y=hue[::-1],s=6,jitter=0.2,\n",
    "#               palette=['black','lightgrey'])\n",
    "sns.boxplot(x=data[::-1],y=hue[::-1],\n",
    "              palette=['#1f78b4','#e31a1c','grey'],fliersize=0,width=0.6,whis=1)\n",
    "# setp(plt.legend(),visible=False)\n",
    "# plt.xticks([0.250,0.3,0.350],size=14)\n",
    "# plt.xticks([0,0.75,1.5],size=14)\n",
    "plt.xlim(0.18,0.36)\n",
    "plt.xticks(size=14)\n",
    "plt.xlabel('Dyad density (length-normalized)',size=14)\n",
    "sns.despine(bottom=False,trim=True,left=True)\n",
    "plt.yticks([])\n",
    "plt.savefig('../figures/human_neocen_cen_dyad_density.svg')"
   ]
  },
  {
   "cell_type": "markdown",
   "metadata": {},
   "source": [
    "#### Pombe"
   ]
  },
  {
   "cell_type": "code",
   "execution_count": 11,
   "metadata": {},
   "outputs": [
    {
     "data": {
      "image/png": "[encoded data removed]",
      "text/plain": [
       "<matplotlib.figure.Figure at 0x111c5e250>"
      ]
     },
     "metadata": {},
     "output_type": "display_data"
    }
   ],
   "source": [
    "names = []\n",
    "hue = []\n",
    "data = []\n",
    "\n",
    "fns = glob.glob('../data/palindrome/pombe/pombe_cen/*.txt')\n",
    "sdata = parse_data(fns)\n",
    "data.extend(sdata)\n",
    "hue.extend([1]*len(sdata))\n",
    "names.extend(['Cen']*len(sdata))\n",
    "\n",
    "fns = glob.glob('../data/palindrome/pombe/matched_random/*.txt')\n",
    "sdata = parse_data(fns)\n",
    "data.extend(sdata)\n",
    "hue.extend([0]*len(sdata))\n",
    "names.extend(['Control']*len(sdata))\n",
    "\n",
    "plt.figure(figsize=(1,1.25))\n",
    "ax = plt.subplot(111)\n",
    "\n",
    "data = np.array(data)\n",
    "names = np.array(names)\n",
    "colors = [dark_gray,gray]\n",
    "# format_horiz_bar(ax,data,names,yticklabels=['Cen','Control'],colors=colors,xlabel='Dyad density',xlim=[0.24,0.36])\n",
    "format_vert_bar(ax,data,names,xticklabels=['Cen','Control'],colors=colors,ylabel='Density',\n",
    "                ylim=(0.24,0.36),yticks=[0.24,0.36])\n",
    "ax.set_title('Dyad symmetry',size=12)\n",
    "plt.savefig('../figures/pombe_cen_dyad_density.svg')"
   ]
  },
  {
   "cell_type": "code",
   "execution_count": 11,
   "metadata": {
    "collapsed": true
   },
   "outputs": [],
   "source": [
    "names = []\n",
    "hue = []\n",
    "data = []\n",
    "\n",
    "random = []\n",
    "cen = []\n",
    "\n",
    "\n",
    "fns = glob.glob('../data/palindrome/pombe/matched_random/*.txt')\n",
    "for fn in fns:\n",
    "#     print fn\n",
    "    x = 0\n",
    "    \n",
    "    sp = fn.split(\"_\")\n",
    "    L = int(sp[-1].split('.')[0]) - int(sp[-2])\n",
    "    \n",
    "    for name,s,e,seq,cvg,gap in iter_palindrome(fn):\n",
    "        x += len(seq)\n",
    "    data.append(x/L)\n",
    "    hue.append('Random')\n",
    "    names.append('pombe')\n",
    "    \n",
    "    random.append(x/L)\n",
    "    \n",
    "#     if x > 2500:\n",
    "#         print fn\n",
    "\n",
    "\n",
    "fns = glob.glob('../data/palindrome/pombe/pombe_cen/*.txt')\n",
    "\n",
    "for fn in fns:\n",
    "    sp = fn.split(\"_\")\n",
    "    L = int(sp[-1].split('.')[0]) - int(sp[-2])\n",
    "    \n",
    "    x = 0\n",
    "    for name,s,e,seq,cvg,gap in iter_palindrome(fn):\n",
    "        x += len(seq)\n",
    "    data.append(x/L)\n",
    "    hue.append('cen')\n",
    "    names.append('pombe')\n",
    "    \n",
    "    cen.append(x/L)\n",
    "\n"
   ]
  },
  {
   "cell_type": "code",
   "execution_count": 12,
   "metadata": {},
   "outputs": [
    {
     "data": {
      "text/plain": [
       "Ks_2sampResult(statistic=0.95679012345679015, pvalue=0.0026888151507499449)"
      ]
     },
     "execution_count": 12,
     "metadata": {},
     "output_type": "execute_result"
    }
   ],
   "source": [
    "ks_2samp(random,cen)"
   ]
  },
  {
   "cell_type": "code",
   "execution_count": 75,
   "metadata": {},
   "outputs": [
    {
     "data": {
      "image/png": "[encoded data removed]",
      "text/plain": [
       "<matplotlib.figure.Figure at 0x11bbf9690>"
      ]
     },
     "metadata": {},
     "output_type": "display_data"
    }
   ],
   "source": [
    "# plt.figure(figsize=(2.5,4))\n",
    "plt.figure(figsize=(3,1.5))\n",
    "\n",
    "# color=['#e31a1c','black']\n",
    "sns.stripplot(x=data[::-1],y=hue[::-1],s=6,jitter=0.2,\n",
    "              palette=['black','lightgrey'])\n",
    "sns.boxplot(x=data[::-1],y=hue[::-1],\n",
    "              palette=['#e31a1c','grey'],fliersize=0,width=0.6)\n",
    "# setp(plt.legend(),visible=False)\n",
    "plt.xticks([0.250,0.3,0.350],size=14)\n",
    "plt.xlabel('Dyad density (length-normalized)',size=14)\n",
    "sns.despine(bottom=False,trim=True,left=True)\n",
    "plt.yticks([])\n",
    "plt.savefig('../figures/pombe_cen_dyad_density.svg')"
   ]
  },
  {
   "cell_type": "code",
   "execution_count": 2,
   "metadata": {},
   "outputs": [],
   "source": [
    "names = []\n",
    "hue = []\n",
    "data = []\n",
    "\n",
    "random = []\n",
    "unique = []\n",
    "neo = []\n",
    "\n",
    "\n",
    "fns = glob.glob('../data/palindrome/chicken/matched_random/*.txt')\n",
    "for fn in fns:\n",
    "#     print fn\n",
    "    x = 0\n",
    "    \n",
    "    sp = fn.split(\"_\")\n",
    "    L = int(sp[-1].split('.')[0]) - int(sp[-2])\n",
    "    \n",
    "    for name,s,e,seq,cvg,gap in iter_palindrome(fn):\n",
    "        x += len(seq)\n",
    "    data.append(x/L)\n",
    "    hue.append('Random')\n",
    "    names.append('chicken')\n",
    "    \n",
    "    random.append(x/L)\n",
    "    \n",
    "#     if x > 2500:\n",
    "#         print fn\n",
    "\n",
    "\n",
    "fns = glob.glob('../data/palindrome/chicken/unique_cen/*.txt')\n",
    "\n",
    "for fn in fns:\n",
    "    sp = fn.split(\"_\")\n",
    "    L = int(sp[-1].split('.')[0]) - int(sp[-2])\n",
    "    \n",
    "    x = 0\n",
    "    for name,s,e,seq,cvg,gap in iter_palindrome(fn):\n",
    "        x += len(seq)\n",
    "    data.append(x/L)\n",
    "    hue.append(r'$\\alpha$'+'-satellite')\n",
    "    names.append('chicken')\n",
    "    \n",
    "    unique.append(x/L)\n",
    "    \n",
    "\n",
    "fns = glob.glob('../data/palindrome/chicken/neocen/*.txt')\n",
    "\n",
    "for fn in fns:\n",
    "    sp = fn.split(\"_\")\n",
    "    L = int(sp[-1].split('.')[0]) - int(sp[-2])\n",
    "    x = 0\n",
    "    for name,s,e,seq,cvg,gap in iter_palindrome(fn):\n",
    "        x += len(seq)\n",
    "    data.append(x/L)\n",
    "    hue.append('Neocentromere')\n",
    "    names.append('chicken')\n",
    "    \n",
    "    neo.append(x/L)\n",
    "\n",
    "\n"
   ]
  },
  {
   "cell_type": "code",
   "execution_count": 31,
   "metadata": {},
   "outputs": [
    {
     "data": {
      "image/png": "[encoded data removed]",
      "text/plain": [
       "<matplotlib.figure.Figure at 0x117aa9650>"
      ]
     },
     "metadata": {},
     "output_type": "display_data"
    }
   ],
   "source": [
    "plt.figure(figsize=(3,1.5))\n",
    "sns.boxplot(x=data[::-1],y=hue[::-1],\n",
    "              palette=['#1f78b4','#e31a1c','grey'],fliersize=0,width=0.6,whis=1)\n",
    "plt.xlim(0.18,0.36)\n",
    "plt.xticks(size=14)\n",
    "plt.xlabel('Dyad density (length-normalized)',size=14)\n",
    "sns.despine(bottom=False,trim=True,left=True)\n",
    "plt.yticks([])\n",
    "plt.savefig('../figures/chicken_neocen_cen_dyad_density.svg')"
   ]
  }
 ],
 "metadata": {
  "kernelspec": {
   "display_name": "Python 2",
   "language": "python",
   "name": "python2"
  },
  "language_info": {
   "codemirror_mode": {
    "name": "ipython",
    "version": 2
   },
   "file_extension": ".py",
   "mimetype": "text/x-python",
   "name": "python",
   "nbconvert_exporter": "python",
   "pygments_lexer": "ipython2",
   "version": "2.7.16"
  }
 },
 "nbformat": 4,
 "nbformat_minor": 2
}
