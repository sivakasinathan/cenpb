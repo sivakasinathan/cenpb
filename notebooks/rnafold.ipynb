{
 "cells": [
  {
   "cell_type": "markdown",
   "metadata": {
    "collapsed": true
   },
   "source": [
    "# Parse extended RNA fold output (incl. ensemble data)"
   ]
  },
  {
   "cell_type": "code",
   "execution_count": 1,
   "metadata": {
    "scrolled": true
   },
   "outputs": [
    {
     "name": "stdout",
     "output_type": "stream",
     "text": [
      "Populating the interactive namespace from numpy and matplotlib\n"
     ]
    }
   ],
   "source": [
    "from __future__ import division\n",
    "%pylab inline\n",
    "import seaborn as sns\n",
    "sns.set_style('ticks')\n",
    "sns.set_context('paper')\n",
    "import glob\n",
    "from scipy.stats import ks_2samp\n",
    "\n",
    "def parse_rnafold_ensemble(fn,norm=False):\n",
    "    \"\"\"Parse raw RNAfold output (w/ ensemble) into dict.\n",
    "    \n",
    "    RNAfold output format:\n",
    "    >seqname\n",
    "    seq\n",
    "    MFE structure (deltaG)\n",
    "    ensemble structure ensemble free energy\n",
    "    centroid\n",
    "    mfe freq, ensmeble diversty\n",
    "    \n",
    "    Return : dict\n",
    "    \"\"\"\n",
    "    \n",
    "    def r2dict(n,s,ms,es,c,mdg,mf,edg,cdg,cd,dv):\n",
    "        \"\"\"Return a dictionary entry of the supplied RNAfold data\"\"\"\n",
    "        return n[1:],{'seq':s,'mfe_struct':ms,'ensemble_struct':es,\n",
    "                      'centroid_struct':c,'mfe_deltaG':mdg,\n",
    "                      'mfe_freq':mf,'ensemble_deltaG':edg,\n",
    "                      'diversity':dv,'centroid_deltaG':cdg,\n",
    "                      'centroid_dist':cd}\n",
    "    \n",
    "    rdict = {}\n",
    "    name = seq = mstruct = estruct = cstruct = None\n",
    "    mdg = edg = cdg = dv = cd = None\n",
    "    ctr = 0\n",
    "    with open(fn,'r') as f:\n",
    "        for line in f:\n",
    "            line = line.rstrip()\n",
    "            if '>' == line[0]:\n",
    "                if name is not None:\n",
    "                    name, d = r2dict(name,seq,mstruct,estruct,\n",
    "                                     cstruct,mdg,mf,edg,cdg,cd,dv)\n",
    "                    rdict[name] = d\n",
    "                name = line\n",
    "                ctr = 1\n",
    "                continue\n",
    "            \n",
    "            line = line.split()\n",
    "            if ctr == 1:\n",
    "                seq = line[0]\n",
    "            elif ctr == 2:\n",
    "                mstruct = line[0]\n",
    "                mdg = float(line[-1].strip('()').strip(' '))\n",
    "            elif ctr == 3:\n",
    "                estruct = line[0]\n",
    "            elif ctr == 4:\n",
    "                edg = float(line[-2])\n",
    "            elif ctr == 5:\n",
    "                cstruct = line[0]\n",
    "                cdg = float(line[-2].strip('{}'))\n",
    "                cd = float(line[-1].strip('d={}'))\n",
    "            elif ctr == 6:\n",
    "                mf = float(line[6].strip(';'))\n",
    "                dv = float(line[-1])\n",
    "            \n",
    "            ctr +=1\n",
    "    \n",
    "    # Get the straggler\n",
    "    try:\n",
    "        name, d = r2dict(name,seq,mstruct,estruct,cstruct,mdg,mf,edg,\n",
    "                         cdg,cd,dv)\n",
    "        rdict[name] = d\n",
    "    except:\n",
    "        pass\n",
    "    \n",
    "    if norm:\n",
    "        for name in rdict.iterkeys():\n",
    "            L = len(rdict[name]['seq'])\n",
    "            rdict[name]['mfe_deltaG'] /= L\n",
    "            rdict[name]['ensemble_deltaG'] /=L\n",
    "            rdict[name]['centroid_deltaG'] /=L\n",
    "    \n",
    "    return rdict\n",
    "\n",
    "def parse_lfold(fn,maxlen=100):\n",
    "    name = None\n",
    "    data = {}\n",
    "    with open(fn,'r') as f:\n",
    "        for line in f:\n",
    "            line = line.strip()\n",
    "            if '>' in line:\n",
    "                name = line[1:]\n",
    "                if name is not None:\n",
    "                    data[name] = {}\n",
    "                grabnext = False\n",
    "                continue\n",
    "            if 'A' in line and 'C' in line and 'G' in line and 'T' in line:\n",
    "                grabnext= True\n",
    "                data[name]['len'] = len(line.rstrip())\n",
    "                continue\n",
    "            if grabnext:\n",
    "                data[name]['deltaG'] = float(line.rstrip().strip('()'))\n",
    "                data[name]['deltaG'] /= data[name]['len']\n",
    "                grabnext=False\n",
    "                continue\n",
    "                \n",
    "            line = line.split()\n",
    "            try:\n",
    "                pos = int(line[-1])-1\n",
    "                val = float(line[-2].strip('()'))\n",
    "                plen = len(line[0])\n",
    "                if plen > maxlen:\n",
    "                    continue\n",
    "                for i in range(plen):\n",
    "                    if i+pos in data[name]:\n",
    "                        v = data[name][i+pos]\n",
    "                    else:\n",
    "                        v = 0\n",
    "                    data[name][i+pos] = min(v,val)\n",
    "#                     data[name][i+pos] = v+val\n",
    "            except:\n",
    "                pass\n",
    "    return data\n",
    "\n",
    "def lfold2arr(ldict):\n",
    "    arr = np.zeros(np.max(ldict.keys())+1)\n",
    "    \n",
    "    for pos in ldict.keys():\n",
    "        arr[pos] = ldict[pos]\n",
    "    return arr\n",
    "\n",
    "def movingaverage (values, window):\n",
    "    weights = np.repeat(1.0, window)/window\n",
    "    sma = np.convolve(values, weights, 'valid')\n",
    "    return sma"
   ]
  },
  {
   "cell_type": "code",
   "execution_count": 2,
   "metadata": {
    "scrolled": true
   },
   "outputs": [],
   "source": [
    "data = []\n",
    "names = []\n",
    "# fns = ['yeast/sc2.cen.rnafold.txt','yeast/high_loss_cde2.rnafold.txt',\n",
    "fns = ['../data/rnafold/yeast/sc2.cen.rnafold.txt',\n",
    "       '../data/rnafold/yeast/smik.cen.rnafold.txt',\n",
    "       '../data/rnafold/yeast/skud.cen.rnafold.txt',\n",
    "       '../data/rnafold/yeast/n_dairenensis.rnafold.txt',\n",
    "       '../data/rnafold/yeast/n_castelli.rnafold.txt']\n",
    "\n",
    "\n",
    "ns = [r\"$\\it{S. cerevisiae}$\",r'$\\it{S. mikatae}$',r'$\\it{S. kudriavzevii}$',\n",
    "      r'$\\it{S. diarenensis}$',r'$\\it{S. castellii}$']\n",
    "spec_data = []\n",
    "\n",
    "for fn,nss in zip(fns,ns):\n",
    "# for fn in glob.glob('yeast/*rnafold.txt'):\n",
    "    d = parse_rnafold_ensemble(fn)\n",
    "    x = [d[name]['ensemble_deltaG'] for name in d.keys()]\n",
    "    data.extend(x)\n",
    "    names.extend([nss]*len(x))\n",
    "    spec_data.append(x)"
   ]
  },
  {
   "cell_type": "code",
   "execution_count": null,
   "metadata": {
    "scrolled": true
   },
   "outputs": [],
   "source": [
    "corr = np.ones((len(spec_data),len(spec_data)))\n",
    "\n",
    "for i,d1 in enumerate(spec_data):\n",
    "    for j,d2 in enumerate(spec_data):\n",
    "        s,p = ks_2samp(d1,d2)\n",
    "        corr[i,j] = p\n",
    "fig, (ax, cax) = plt.subplots(nrows=2,figsize=(3,3.5), \n",
    "                  gridspec_kw={\"height_ratios\":[1, 0.1]})\n",
    "\n",
    "im = ax.imshow(corr,cmap=cm.RdBu,\n",
    "               rasterized=True,norm=matplotlib.colors.LogNorm(vmin=1e-3,vmax=1))\n",
    "ax.vlines([2.5],-0.5,4.5,linestyles='dotted',lw=2)\n",
    "ax.hlines([2.5],-0.5,4.5,linestyles='dotted',lw=2)\n",
    "\n",
    "\n",
    "ax.set_xticks([])\n",
    "ax.set_yticks([])\n",
    "fig.colorbar(im, cax=cax,extend='both',orientation=\"horizontal\")\n",
    "setp(cax.get_xticklabels(),size=16)\n",
    "cax.set_xlabel('Kolmogorov-Smirnov p-value',size=16)\n",
    "\n",
    "plt.savefig('../figures/ks_pvalue_yeast.svg')"
   ]
  },
  {
   "cell_type": "code",
   "execution_count": 32,
   "metadata": {
    "scrolled": true
   },
   "outputs": [
    {
     "data": {
      "image/png": "[encoded data removed]",
      "text/plain": [
       "<matplotlib.figure.Figure at 0x119ef3f90>"
      ]
     },
     "metadata": {},
     "output_type": "display_data"
    }
   ],
   "source": [
    "plt.figure(figsize=(1.5,2.5))\n",
    "\n",
    "# cols = ['#e41a1c','#377eb8','#e41a1c','#e41a1c','#377eb8','#377eb8']\n",
    "cols = ['#377eb8','#377eb8','#377eb8','#e41a1c','#e41a1c']\n",
    "\n",
    "\n",
    "# cols = ['#fb9a99','#a6cee3','#fb9a99','#fb9a99','#a6cee3','#a6cee3']\n",
    "ax = sns.violinplot(x=data,y=names, color=None,\n",
    "                 width=0.8,linewidth=1,palette=cols,bw=0.5,inner=None)\n",
    "sns.stripplot(x=data,y=names,\n",
    "              jitter=True, size=4, color=\"black\", linewidth=0,marker='o')\n",
    "\n",
    "ax.set_xticks([-20,-15,-10,-5])\n",
    "# ax.set_xticklabels([-20,-11,-4],size=14)\n",
    "ax.set_xlim([-20,-5])\n",
    "\n",
    "# ax.set_yticklabels(['Native','High loss','Low loss'],size=14)\n",
    "ax.tick_params(axis='y',length=0)\n",
    "ax.xaxis.tick_top()\n",
    "setp(ax.get_yticklabels(),size=12)\n",
    "sns.despine(ax=ax,left=True,trim=False,top=False,bottom=True,offset=5)\n",
    "ax.set_title('DNA secondary structure',y=1.35,size=12)\n",
    "ax.xaxis.set_label_position('top')\n",
    "setp(ax.get_xticklabels(),size=10,y=0.97)\n",
    "ax.set_xlabel('Ensemble '+r'$\\Delta$'+'G (kcal/mol)',size=10)\n",
    "\n",
    "\n",
    "plt.savefig('../figures/yeast_cen_loss.svg')"
   ]
  },
  {
   "cell_type": "code",
   "execution_count": null,
   "metadata": {
    "scrolled": true
   },
   "outputs": [],
   "source": [
    "data = []\n",
    "names = []\n",
    "fns = ['../data/rnafold/homo_sapiens.2500.rnafold.txt',\n",
    "       '../data/rnafold/pan_troglodytes.2500.rnafold.txt',\n",
    "       '../data/rnafold/pan_paniscus.2500.rnafold.txt',\n",
    "       '../data/rnafold/gorilla_gorilla.2500.rnafold.txt',\n",
    "       '../data/rnafold/gorilla_berengei.2500.rnafold.txt',\n",
    "       '../data/rnafold/pongo_abelii.2500.rnafold.txt',\n",
    "       '../data/rnafold/pongo_pygmaeus.2500.rnafold.txt',\n",
    "       '../data/rnafold/chlorocebus_aethiops.2500.rnafold.txt',\n",
    "       '../data/rnafold/chlorocebus_sabaeus.2500.rnafold.txt',\n",
    "       '../data/rnafold/chlorocebus_pygerythrus.2500.rnafold.txt',\n",
    "       '../data/rnafold/macaca_mulatta.2500.rnafold.txt',\n",
    "       '../data/rnafold/macaca_fascicularis.2500.rnafold.txt',\n",
    "       '../data/rnafold/papio_anubis.2500.rnafold.txt',\n",
    "       '../data/rnafold/misat.sample.rnafold.txt',\n",
    "       '../data/rnafold/chicken_unique_cen.sim_reads_art.rnafold.txt']\n",
    "\n",
    "spec_data = []\n",
    "\n",
    "for fn in fns:\n",
    "    print fn\n",
    "    d = parse_rnafold_ensemble(fn)\n",
    "#     x = [d[name]['ensemble_deltaG'] for name in d.keys()]\n",
    "#     x = [d[name]['mfe_freq'] for name in d.keys()]\n",
    "    x = [100*d[name]['ensemble_deltaG']/len(d[name]['seq']) for name in d.keys()]\n",
    "\n",
    "    data.extend(x)\n",
    "    names.extend([fn]*len(x))\n",
    "    \n",
    "    spec_data.append(np.random.choice(x,size=100))"
   ]
  },
  {
   "cell_type": "code",
   "execution_count": 12,
   "metadata": {
    "scrolled": true
   },
   "outputs": [
    {
     "data": {
      "image/png": "[encoded data removed]",
      "text/plain": [
       "<matplotlib.figure.Figure at 0x113c59750>"
      ]
     },
     "metadata": {},
     "output_type": "display_data"
    }
   ],
   "source": [
    "corr = np.ones((len(spec_data),len(spec_data)))\n",
    "\n",
    "for i,d1 in enumerate(spec_data):\n",
    "    for j,d2 in enumerate(spec_data):\n",
    "        s,p = ks_2samp(d1,d2)\n",
    "        corr[i,j] = p\n",
    "fig, (ax, cax) = plt.subplots(nrows=2,figsize=(8,9), \n",
    "                  gridspec_kw={\"height_ratios\":[1, 0.05]})\n",
    "\n",
    "im = ax.imshow(corr,cmap=cm.RdBu,norm=matplotlib.colors.LogNorm(vmin=1e-15,vmax=1),\n",
    "               rasterized=True)\n",
    "# ax.vlines([6.5,10.5,17.5],-0.5,21.5,linestyles='dotted',lw=1.25)\n",
    "# ax.hlines([6.5,10.5,17.5],-0.5,21.5,linestyles='dotted',lw=1.25)\n",
    "\n",
    "ax.vlines([6.5],-0.5,14.5,linestyles='dotted',lw=1.5)\n",
    "ax.vlines([12.5],-0.5,14.5,linestyles='dotted',lw=1.5)\n",
    "ax.vlines([13.5],-0.5,14.5,linestyles='dotted',lw=1.5)\n",
    "ax.hlines([6.5],-0.5,14.5,linestyles='dotted',lw=1.5)\n",
    "ax.hlines([12.5],-0.5,14.5,linestyles='dotted',lw=1.5)\n",
    "ax.hlines([13.5],-0.5,14.5,linestyles='dotted',lw=1.5)\n",
    "\n",
    "ax.set_xticks([])\n",
    "ax.set_yticks([])\n",
    "fig.colorbar(im, cax=cax,extend='both',orientation=\"horizontal\")\n",
    "setp(cax.get_xticklabels(),size=16)\n",
    "cax.set_xlabel('Kolmogorov-Smirnov p-value',size=16)\n",
    "\n",
    "plt.savefig('../figures/ks_pvalue_multispecies.svg')"
   ]
  },
  {
   "cell_type": "markdown",
   "metadata": {},
   "source": [
    "def hex2rgb(h):\n",
    "    h = h.strip('#')\n",
    "    return tuple([int(h[i:i+2], 16)/255 for i in (0, 2 ,4)]+[1])\n"
   ]
  },
  {
   "cell_type": "code",
   "execution_count": 29,
   "metadata": {
    "scrolled": true
   },
   "outputs": [
    {
     "data": {
      "image/png": "[encoded data removed]",
      "text/plain": [
       "<matplotlib.figure.Figure at 0x117d687d0>"
      ]
     },
     "metadata": {},
     "output_type": "display_data"
    }
   ],
   "source": [
    "plt.figure(figsize(1.25,1.05))\n",
    "\n",
    "cols = ['#377eb8','#e41a1c']\n",
    "# cols = ['#a6cee3','#fb9a99']\n",
    "\n",
    "ax = sns.violinplot(x=(misat+masat)[::-1],y=names[::-1], palette=cols,notch=True,\n",
    "                 width=0.95,linewidth=1,bw=0.4)\n",
    "setp(ax.get_yticklabels(),size=12)\n",
    "ax.tick_params(axis='y',length=0)\n",
    "ax.set_xlabel('Ensemble '+r'$\\Delta$'+'G\\n(kcal/mol)',size=10)\n",
    "ax.set_xlim([-40,0])\n",
    "sns.despine(ax=ax,left=True,bottom=False,trim=True,offset=5)\n",
    "ax.set_xticks([0,-20,-40])\n",
    "setp(ax.get_yticklabels(),size=12)\n",
    "setp(ax.get_xticklabels(),size=10)\n",
    "\n",
    "\n",
    "\n",
    "\n",
    "ax.set_title('DNA secondary\\nstructure',size=12)\n",
    "\n",
    "plt.savefig('../figures/mouse.rnafold.svg')"
   ]
  },
  {
   "cell_type": "code",
   "execution_count": null,
   "metadata": {
    "scrolled": true
   },
   "outputs": [],
   "source": [
    "bins = np.linspace(-20,-5,15)\n",
    "# bins = np.linspace(0,40,20)\n",
    "data = []\n",
    "names = []\n",
    "fns = [\n",
    "       '../data/rnafold/homo_sapiens.2500.rnafold.txt',\n",
    "       '../data/rnafold/pan_troglodytes.2500.rnafold.txt',\n",
    "       '../data/rnafold/pan_paniscus.2500.rnafold.txt',\n",
    "       '../data/rnafold/gorilla_gorilla.2500.rnafold.txt',\n",
    "       '../data/rnafold/gorilla_berengei.2500.rnafold.txt',\n",
    "       '../data/rnafold/pongo_abelii.2500.rnafold.txt',\n",
    "       '../data/rnafold/pongo_pygmaeus.2500.rnafold.txt',\n",
    "       '../data/rnafold/chlorocebus_aethiops.2500.rnafold.txt',\n",
    "       '../data/rnafold/chlorocebus_sabaeus.2500.rnafold.txt',\n",
    "       '../data/rnafold/chlorocebus_pygerythrus.2500.rnafold.txt',\n",
    "       '../data/rnafold/macaca_mulatta.2500.rnafold.txt',\n",
    "       '../data/rnafold/macaca_fascicularis.2500.rnafold.txt',\n",
    "       '../data/rnafold/papio_anubis.2500.rnafold.txt',\n",
    "       '../data/rnafold/misat.sample.1000.rnafold.txt',\n",
    "       '../data/rnafold/equus_caballus.2500.rnafold.txt',\n",
    "       '../data/rnafold/chicken_unique_cen.sim_reads_art.rnafold.txt',\n",
    "        '../data/rnafold/stickleback.rnafold.txt',\n",
    "       '../data/rnafold/pombe.cen_core.sim_reads.rnafold.txt',\n",
    "       '../data/rnafold/oryza_sativa.2500.rnafold.txt',\n",
    "        '../data/rnafold/zea_mays.2500.rnafold.txt',\n",
    "        '../data/rnafold/arabidopsis_thaliana.2500_sim.rnafold.txt'\n",
    "      ]\n",
    "\n",
    "for fn in fns:\n",
    "    print fn\n",
    "    d = parse_rnafold_ensemble(fn)\n",
    "    x = [100*d[name]['ensemble_deltaG']/len(d[name]['seq']) for name in d.keys()]\n",
    "    \n",
    "    hgram,_ = np.histogram(x,bins=bins,normed=True)\n",
    "    \n",
    "    data.append(hgram)\n",
    "    names.append(fn)\n",
    "\n",
    "# data = np.array(data)"
   ]
  },
  {
   "cell_type": "code",
   "execution_count": 242,
   "metadata": {
    "scrolled": true
   },
   "outputs": [
    {
     "data": {
      "image/png": "[encoded data removed]",
      "text/plain": [
       "<matplotlib.figure.Figure at 0x11968ec90>"
      ]
     },
     "metadata": {},
     "output_type": "display_data"
    }
   ],
   "source": [
    "# data\n",
    "imshow(data,cmap=cm.bone_r,interpolation='none',rasterized=True)\n",
    "plt.axhline(y=6.5,lw=1,c='black',ls='dotted')\n",
    "plt.axhline(y=12.5,lw=1,c='black',ls='dotted')\n",
    "plt.axhline(y=13.5,lw=1,c='black',ls='dotted')\n",
    "plt.axhline(y=14.5,lw=1,c='black',ls='dotted')\n",
    "plt.axhline(y=15.5,lw=1,c='black',ls='dotted')\n",
    "plt.axhline(y=16.5,lw=1,c='black',ls='dotted')\n",
    "plt.axhline(y=17.5,lw=1,c='black',ls='dotted')\n",
    "plt.axvline(x=7.5,lw=1,c='black',ls='dotted')\n",
    "plt.xticks([])\n",
    "plt.yticks([])\n",
    "\n",
    "plt.savefig('../figures/rnafold.heatmap.svg')"
   ]
  },
  {
   "cell_type": "code",
   "execution_count": 3,
   "metadata": {
    "scrolled": true
   },
   "outputs": [
    {
     "name": "stdout",
     "output_type": "stream",
     "text": [
      "../data/rnafold/human_hors/D7Z1.monomers.sim.rnafold.txt\n",
      "../data/rnafold/human_hors/D19Z1.monomers.sim.rnafold.txt\n",
      "../data/rnafold/human_hors/Xmono.monomers.sim.rnafold.txt\n",
      "../data/rnafold/human_hors/D17Z1B.monomers.sim.rnafold.txt\n",
      "../data/rnafold/human_hors/DXZ1.monomers.sim.rnafold.txt\n",
      "../data/rnafold/human_hors/D5Z2.monomers.sim.rnafold.txt\n",
      "../data/rnafold/human_hors/RP3.monomers.sim.rnafold.txt\n",
      "../data/rnafold/human_hors/D11Z1.monomers.sim.rnafold.txt\n",
      "../data/rnafold/human_hors/D7Z2.monomers.sim.rnafold.txt\n",
      "../data/rnafold/human_hors/D4Z2bn.monomers.sim.rnafold.txt\n",
      "../data/rnafold/human_hors/D5Z1.monomers.sim.rnafold.txt\n",
      "../data/rnafold/human_hors/3mono.monomers.sim.rnafold.txt\n",
      "../data/rnafold/human_hors/DYZ3.monomers.sim.rnafold.txt\n",
      "../data/rnafold/human_hors/chrUnplaced_BAC2.monomers.sim.rnafold.txt\n"
     ]
    }
   ],
   "source": [
    "fns = glob.glob('../data/rnafold/human_hors/*.sim.rnafold.txt')\n",
    "\n",
    "\n",
    "data = []\n",
    "names = []\n",
    "\n",
    "spec_data = []\n",
    "\n",
    "for fn in fns:\n",
    "    print fn\n",
    "    d = parse_rnafold_ensemble(fn)\n",
    "#     x = [d[name]['ensemble_deltaG'] for name in d.keys()]\n",
    "#     x = [d[name]['mfe_freq'] for name in d.keys()]\n",
    "    x = [100*d[name]['ensemble_deltaG']/len(d[name]['seq']) for name in d.keys()]\n",
    "\n",
    "    data.extend(x)\n",
    "    names.extend([fn]*len(x))\n",
    "    \n",
    "\n",
    "    spec_data.append(np.random.choice(x,size=50))"
   ]
  },
  {
   "cell_type": "code",
   "execution_count": null,
   "metadata": {
    "scrolled": true
   },
   "outputs": [],
   "source": [
    "bins = np.linspace(-25,-5,15)\n",
    "\n",
    "data = []\n",
    "names = []\n",
    "\n",
    "\n",
    "\n",
    "fns = ['../data/rnafold/human_hors/D5Z2.monomers.sim.rnafold.txt',\n",
    "       '../data/rnafold/human_hors/DXZ1.monomers.sim.rnafold.txt',\n",
    "       '../data/rnafold/human_hors/D7Z1.monomers.sim.rnafold.txt',\n",
    "      '../data/rnafold/human_hors/DYZ3.monomers.sim.rnafold.txt',\n",
    "      '../data/rnafold/human_hors/D17Z1B.monomers.sim.rnafold.txt',\n",
    "      '../data/rnafold/human_hors/D11Z1.monomers.sim.rnafold.txt',\n",
    "        '../data/rnafold/human_hors/D7Z2.monomers.sim.rnafold.txt',\n",
    "       '../data/rnafold/human_hors/D4Z2bn.monomers.sim.rnafold.txt',\n",
    "      '../data/rnafold/human_hors/D19Z1.monomers.sim.rnafold.txt',\n",
    "      '../data/rnafold/human_hors/Xmono.monomers.sim.rnafold.txt',\n",
    "      '../data/rnafold/human_hors/3mono.monomers.sim.rnafold.txt',\n",
    "      '../data/rnafold/human_hors/D5Z1.monomers.sim.rnafold.txt']\n",
    "\n",
    "\n",
    "for fn in fns:\n",
    "    print fn\n",
    "    d = parse_rnafold_ensemble(fn)\n",
    "    x = [100*d[name]['ensemble_deltaG']/len(d[name]['seq']) for name in d.keys()]\n",
    "    \n",
    "    hgram,_ = np.histogram(x,bins=bins,normed=True)\n",
    "    \n",
    "    data.append(hgram)\n",
    "    names.append(fn)"
   ]
  },
  {
   "cell_type": "code",
   "execution_count": null,
   "metadata": {
    "scrolled": true
   },
   "outputs": [],
   "source": [
    "plt.figure(figsize=(4,4))\n",
    "\n",
    "species = ['D5Z2','DXZ1','D7Z1','DYZ3','D171B','D11Z1','D7Z2','D4Z2bn','D19Z1','Xmono','3mono','D5Z1']\n",
    "cols = ['blue']*len(species)\n",
    "cols = ['#e41a1c']*4 + ['#377eb8']*4 + ['grey']*4#,'grey'] + ['#6a3d9a'] + ['#4daf4a']\n",
    "\n",
    "\n",
    "# cols = ['#fb9a99']*11 + ['#a6cee3']*7 + ['#e5d8bd']*4\n",
    "ax = sns.violinplot(x=data,y=names, palette=cols,notch=False,\n",
    "                 width=0.8,linewidth=1,bw=0.5,gridsize=50,inner='box',scale='width',cut=0)\n",
    "# ax = sns.boxplot(x=data,y=names, color=None,notch=True,\n",
    "#                  width=0.5,linewidth=1,whis=0.5,fliersize=0)\n",
    "sns.stripplot(x=data,y=names,\n",
    "              jitter=True, size=4, color=\"black\", linewidth=0,marker='o')\n",
    "\n",
    "# ax.set_xticks([-20,-11,-4])\n",
    "# ax.set_xticklabels([-20,-11,-4],size=14)\n",
    "# ax.set_xlim([-20,-4])\n",
    "\n",
    "# ax.set_yticklabels(['Native','High loss','Low loss'],size=14)\n",
    "ax.set_title('Ensemble '+r'$\\Delta$'+'G (kcal/mol)',size=10)\n",
    "ax.tick_params(axis='y',length=0)\n",
    "ax.xaxis.tick_top()\n",
    "ax.set_yticklabels(species)\n",
    "setp(ax.get_yticklabels(),size=10)\n",
    "setp(ax.get_xticklabels(),size=10)\n",
    "ax.set_xlim(-30,-5)\n",
    "# ax.set_xticks([-20,-10,0])\n",
    "# ax.set_xticklabels(['','-20','','-10','','0'])\n",
    "ax.grid(axis='x',ls='dotted')\n",
    "sns.despine(ax=ax,left=True,trim=True,top=False,bottom=True)\n",
    "# plt.savefig('../figures/human_hors.svg')"
   ]
  },
  {
   "cell_type": "code",
   "execution_count": 6,
   "metadata": {
    "scrolled": true
   },
   "outputs": [
    {
     "data": {
      "text/plain": [
       "([], <a list of 0 Text yticklabel objects>)"
      ]
     },
     "execution_count": 6,
     "metadata": {},
     "output_type": "execute_result"
    },
    {
     "data": {
      "image/png": "[encoded data removed]",
      "text/plain": [
       "<Figure size 180x288 with 1 Axes>"
      ]
     },
     "metadata": {},
     "output_type": "display_data"
    }
   ],
   "source": [
    "plt.figure(figsize=(2.5,4))\n",
    "imshow(data,cmap=cm.bone_r,interpolation='none',rasterized=True)\n",
    "plt.axhline(y=2.5,lw=1,c='black',ls='dotted')\n",
    "plt.axhline(y=3.5,lw=1,c='black',ls='dotted')\n",
    "plt.axhline(y=7.5,lw=1,c='black',ls='dotted')\n",
    "\n",
    "\n",
    "plt.xticks([])\n",
    "plt.yticks([])\n",
    "\n",
    "plt.savefig('../figures/hors.rnafold.heatmap.svg')\n"
   ]
  }
 ],
 "metadata": {
  "kernelspec": {
   "display_name": "Python 2",
   "language": "python",
   "name": "python2"
  },
  "language_info": {
   "codemirror_mode": {
    "name": "ipython",
    "version": 2
   },
   "file_extension": ".py",
   "mimetype": "text/x-python",
   "name": "python",
   "nbconvert_exporter": "python",
   "pygments_lexer": "ipython2",
   "version": "2.7.16"
  }
 },
 "nbformat": 4,
 "nbformat_minor": 2
}
