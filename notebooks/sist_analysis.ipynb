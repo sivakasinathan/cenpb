{
 "cells": [
  {
   "cell_type": "markdown",
   "metadata": {},
   "source": [
    "### Compare SIST parameters for windows from centromeres, neocentromeres, and background genomic regions\n",
    "\n",
    "Analysis of sequences from centromeres, neocentromeres, and background genomic regions using SIST"
   ]
  },
  {
   "cell_type": "code",
   "execution_count": 1,
   "metadata": {},
   "outputs": [
    {
     "name": "stdout",
     "output_type": "stream",
     "text": [
      "Populating the interactive namespace from numpy and matplotlib\n"
     ]
    }
   ],
   "source": [
    "from __future__ import division\n",
    "%pylab inline\n",
    "import matplotlib.gridspec as gridspec\n",
    "import matplotlib.ticker as ticker\n",
    "from scipy.signal import medfilt\n",
    "import seaborn as sns\n",
    "from Bio import SeqIO\n",
    "import glob\n",
    "sns.set_style('ticks')\n",
    "sns.set_context('paper')\n",
    "import os\n",
    "import re\n",
    "from scipy.stats import ks_2samp\n",
    "\n",
    "def parse_sist_melt(fn):\n",
    "    \"\"\"Parse raw SIST melt output; return an array of probabilities\"\"\"\n",
    "    data = []\n",
    "    with open(fn,'r') as f:\n",
    "        for line in f:\n",
    "            line = line.strip()\n",
    "            if 'Position' in line or 'WARNING' in line:\n",
    "                continue\n",
    "            line = line.split()\n",
    "            line[0],line[1],line[2] = int(line[0])-1,float(line[1]),float(line[2])\n",
    "            data.append(line[1])\n",
    "    return np.array(data)\n",
    "\n",
    "def parse_sist_cruciform(fn):\n",
    "    \"\"\"Parse raw SIST cruciform output; return an array of probabilities\"\"\"\n",
    "    data = []\n",
    "    with open(fn,'r') as f:\n",
    "        for line in f:\n",
    "            line = line.strip()\n",
    "            if 'Position' in line or 'WARNING' in line:\n",
    "                continue\n",
    "            line = line.split()\n",
    "            line[0],line[1] = int(line[0])-1,float(line[1])\n",
    "            data.append(line[1])\n",
    "    return np.array(data)\n",
    "\n",
    "def stitch_sist(fns,dtype='melt',maxe = 200000):\n",
    "    \"\"\"Parse multiple SIST outputs for a region that exceeds the SIST maximum of 10kb;\n",
    "    stitch together sequences based on the information provided in the filename;\n",
    "    Example fn format: II_1603582-1643583_0.algM.txt \"\"\"\n",
    "    data = None\n",
    "    for fn in fns:\n",
    "        fn_split = os.path.basename(fn).split('_')\n",
    "        \n",
    "        fn_split[-1] = fn_split[-1].split('.')[0]\n",
    "                \n",
    "        offset = int(fn_split[-1])\n",
    "        \n",
    "        \n",
    "        try:\n",
    "            [s,e] = fn_split[-2].split('-')\n",
    "            s,e = int(s),int(e)\n",
    "        except:\n",
    "            s = 0\n",
    "            e = maxe\n",
    "        n = e-s+1\n",
    "        \n",
    "        if data is None:\n",
    "            data = -np.ones(n)\n",
    "        \n",
    "        if dtype=='melt':\n",
    "            sdata = parse_sist_melt(fn)\n",
    "        else:\n",
    "            sdata = parse_sist_cruciform(fn)\n",
    "        data[offset:offset+len(sdata)] = np.maximum(sdata,data[offset:offset+len(sdata)])\n",
    "        \n",
    "    return data[data>=0]\n",
    "\n",
    "def format_horiz_bar(ax,data,labels,yticklabels=[0,1],xlabel=None,xlim=None,xticks=None,\n",
    "                     colors=['black','white'],iqrscale=1.75):\n",
    "    ml = ticker.MaxNLocator()\n",
    "    ml._min_n_ticks=2\n",
    "    ml._nbins=2\n",
    "    ax.xaxis.set_major_locator(ml)\n",
    "    \n",
    "    mf = ticker.ScalarFormatter(useMathText=True)\n",
    "    mf.set_powerlimits((-2,2))\n",
    "    ax.xaxis.set_major_formatter(mf)\n",
    "    \n",
    "    bp = sns.boxplot(x=data,y=labels,ax=ax,palette=colors,fliersize=0,width=0.75,orient='h')\n",
    "    \n",
    "    if xlim is not None:\n",
    "        ax.set_xlim(xlim)\n",
    "    else:\n",
    "        lnames = set(labels)\n",
    "        \n",
    "        upper = -np.inf\n",
    "        \n",
    "        for ln in lnames:\n",
    "            ql,qu = np.percentile(data[labels == ln],q=[25,75])\n",
    "            iqr = qu-ql\n",
    "            lu = qu+iqrscale*iqr\n",
    "            \n",
    "            if lu > upper:\n",
    "                upper = lu\n",
    "        ax.set_xlim(np.min(data),upper)\n",
    "        \n",
    "    plt.draw()\n",
    "    \n",
    "    if xlabel is not None:\n",
    "        old_label = xlabel\n",
    "        try:\n",
    "            units =  old_label[old_label.index(\"(\") + 1:old_label.rindex(\")\")]\n",
    "        except:\n",
    "            units = \"\"\n",
    "        label = old_label.replace(\"({})\".format(units), \"\")\n",
    "        exponent_text = ax.xaxis.get_offset_text().get_text().encode('utf-8')\n",
    "        if len(exponent_text) > 1:\n",
    "            exponent_text = re.sub(\"\\xE2\\x88\\x92\", \"-\", exponent_text)\n",
    "            exponent_text.encode('ascii')\n",
    "            exponent_text = exponent_text.replace(\"\\\\times\", \"\")\n",
    "            newlab = \"{} ({} {})\".format(label, exponent_text, units)\n",
    "        else:\n",
    "            newlab = xlabel\n",
    "        ax.xaxis.offsetText.set_visible(False)\n",
    "        ax.xaxis.set_label_text(newlab,size=10)\n",
    "    \n",
    "    ax.set_yticklabels(yticklabels,size=12)\n",
    "    \n",
    "    sns.despine(left=True,offset=5)\n",
    "    ax.tick_params('y',length=0)\n",
    "    ax.xaxis.set_tick_params(labelsize=10,length=4)\n",
    "\n",
    "    \n",
    "def format_vert_bar(ax,data,labels,xticklabels=[0,1],ylabel=None,ylim=None,yticks=None,\n",
    "                     colors=['black','white'],iqrscale=1.75):\n",
    "    ml = ticker.MaxNLocator()\n",
    "    ml._min_n_ticks=2\n",
    "    ml._nbins=2\n",
    "    ax.yaxis.set_major_locator(ml)\n",
    "    \n",
    "    mf = ticker.ScalarFormatter(useMathText=True)\n",
    "    mf.set_powerlimits((-2,2))\n",
    "    ax.yaxis.set_major_formatter(mf)\n",
    "    \n",
    "    bp = sns.boxplot(y=data,x=labels,ax=ax,palette=colors,fliersize=0,width=0.4,orient='v')\n",
    "    \n",
    "    if ylim is not None:\n",
    "        ax.set_ylim(ylim)\n",
    "    else:\n",
    "        lnames = set(labels)\n",
    "        \n",
    "        upper = -np.inf\n",
    "        \n",
    "        for ln in lnames:\n",
    "            subs = data[labels == ln]\n",
    "            if len(subs) > 3:\n",
    "                ql,qu = np.percentile(subs,q=[25,75])\n",
    "                iqr = qu-ql\n",
    "                lu = qu+iqrscale*iqr\n",
    "            else:\n",
    "                lu = np.max(data)\n",
    "            if lu > upper:\n",
    "                upper = lu\n",
    "                \n",
    "        ax.set_ylim(np.min(data),upper)\n",
    "        \n",
    "    plt.draw()\n",
    "    \n",
    "    if yticks is not None:\n",
    "        ax.set_yticks(yticks)\n",
    "    \n",
    "    \n",
    "    if ylabel is not None:\n",
    "        old_label = 'Score ()'\n",
    "        try:\n",
    "            units =  old_label[old_label.index(\"(\") + 1:old_label.rindex(\")\")]\n",
    "        except:\n",
    "            units = \"\"\n",
    "        label = old_label.replace(\"({})\".format(units), \"\")\n",
    "        exponent_text = ax.yaxis.get_offset_text().get_text().encode('utf-8')\n",
    "        if len(exponent_text) > 1:\n",
    "            exponent_text = re.sub(\"\\xE2\\x88\\x92\", \"-\", exponent_text)\n",
    "            exponent_text.encode('ascii')\n",
    "            exponent_text = exponent_text.replace(\"\\\\times\", \"\")\n",
    "            newlab = \"{} ({} {})\".format(label, exponent_text, units)\n",
    "        else:\n",
    "            newlab = ylabel\n",
    "        ax.yaxis.set_label_text(newlab,size=9)\n",
    "        ax.yaxis.offsetText.set_visible(False)\n",
    "    \n",
    "    ax.set_xticklabels(xticklabels,size=10)\n",
    "    \n",
    "    sns.despine(bottom=True,offset=5)\n",
    "    ax.tick_params('x',length=0)\n",
    "    ax.yaxis.set_tick_params(labelsize=9,length=4)\n",
    "    \n",
    "# Define colors:\n",
    "blue = '#1f78b4'\n",
    "brown = '#b15928'\n",
    "gray = '#d9d9d9'"
   ]
  },
  {
   "cell_type": "markdown",
   "metadata": {},
   "source": [
    "#### Human - alphoid sequence"
   ]
  },
  {
   "cell_type": "code",
   "execution_count": 62,
   "metadata": {},
   "outputs": [
    {
     "data": {
      "image/png": "[encoded data removed]",
      "text/plain": [
       "<matplotlib.figure.Figure at 0x10f5f1490>"
      ]
     },
     "metadata": {},
     "output_type": "display_data"
    }
   ],
   "source": [
    "\n",
    "data = []\n",
    "labels = []\n",
    "\n",
    "fns = glob.glob('../data/sist/human/bacs/*.algC.txt')\n",
    "pfxs = set([fn.rsplit('_',1)[0] for fn in fns])\n",
    "\n",
    "for pfx in pfxs:\n",
    "    try:\n",
    "        x = stitch_sist(glob.glob(pfx+'*.algC.txt'),dtype='c')\n",
    "    except:\n",
    "        x = parse_sist_cruciform(glob.glob(pfx+'*')[0])\n",
    "    L = len(x)\n",
    "    data.append(np.sum(x)/L)\n",
    "    labels.append('Cen')\n",
    "\n",
    "\n",
    "fns = glob.glob('../data/sist/human/matched_random/*.algC.txt')\n",
    "for fn in fns:\n",
    "    x = parse_sist_cruciform(fn)\n",
    "    L = len(x)\n",
    "    data.append(np.sum(x)/L)\n",
    "    labels.append('Control')\n",
    "\n",
    "    \n",
    "\n",
    "fig = plt.figure(figsize=(1,1.25))\n",
    "ax = fig.add_subplot(111)\n",
    "    \n",
    "colors = [brown,gray]\n",
    "data = np.array(data)\n",
    "labels = np.array(labels)\n",
    "names = ['Cen','Control']\n",
    "ax.set_title('Cruciform\\nextrusion',size=12)\n",
    "# format_horiz_bar(ax,data,labels,names,xlabel='SIST score',colors=colors)\n",
    "format_vert_bar(ax,data,labels,names,ylabel='SIST score',colors=colors,ylim=\n",
    "                (-0.5e-3,4e-3),yticks=(0,4e-3))\n",
    "\n",
    "plt.savefig('../figures/human_sist_cruc.svg')\n"
   ]
  },
  {
   "cell_type": "code",
   "execution_count": 12,
   "metadata": {},
   "outputs": [
    {
     "data": {
      "image/png": "[encoded data removed]",
      "text/plain": [
       "<matplotlib.figure.Figure at 0x10e8e1510>"
      ]
     },
     "metadata": {},
     "output_type": "display_data"
    }
   ],
   "source": [
    "\n",
    "data = []\n",
    "labels = []\n",
    "\n",
    "fns = glob.glob('../data/sist/human/bacs_individ/dyz3/*.algC.txt')\n",
    "pfxs = set([fn.rsplit('_',1)[0] for fn in fns])\n",
    "\n",
    "for pfx in pfxs:\n",
    "    try:\n",
    "        x = stitch_sist(glob.glob(pfx+'*.algC.txt'),dtype='c')\n",
    "    except:\n",
    "        x = parse_sist_cruciform(glob.glob(pfx+'*')[0])\n",
    "    L = len(x)\n",
    "    data.append(np.sum(x)/L)\n",
    "    labels.append('Cen')\n",
    "\n",
    "\n",
    "fns = glob.glob('../data/sist/human/bacs_individ/d5z2/*.algC.txt')\n",
    "for fn in fns:\n",
    "    x = parse_sist_cruciform(fn)\n",
    "    L = len(x)\n",
    "    data.append(np.sum(x)/L)\n",
    "    labels.append('Control')\n",
    "\n",
    "    \n",
    "\n",
    "fig = plt.figure(figsize=(1,1.25))\n",
    "ax = fig.add_subplot(111)\n",
    "    \n",
    "colors = [brown,gray]\n",
    "data = np.array(data)\n",
    "labels = np.array(labels)\n",
    "names = ['Cen','Control']\n",
    "ax.set_title('Cruciform\\nextrusion',size=12)\n",
    "# format_horiz_bar(ax,data,labels,names,xlabel='SIST score',colors=colors)\n",
    "format_vert_bar(ax,data,labels,names,ylabel='SIST score',colors=colors,ylim=\n",
    "                (-0.5e-4,1e-4),yticks=(0,1e-4))\n",
    "\n",
    "# plt.savefig('../figures/human_sist_cruc.svg')\n",
    "\n"
   ]
  },
  {
   "cell_type": "code",
   "execution_count": 65,
   "metadata": {},
   "outputs": [
    {
     "data": {
      "image/png": "[encoded data removed]",
      "text/plain": [
       "<matplotlib.figure.Figure at 0x10ed7bdd0>"
      ]
     },
     "metadata": {},
     "output_type": "display_data"
    }
   ],
   "source": [
    "\n",
    "data = []\n",
    "labels = []\n",
    "\n",
    "fns = glob.glob('../data/sist/human/bacs/*.algM.txt')\n",
    "pfxs = set([fn.rsplit('_',1)[0] for fn in fns])\n",
    "\n",
    "for pfx in pfxs:\n",
    "    try:\n",
    "        x = stitch_sist(glob.glob(pfx+'*.algM.txt'),dtype='melt')\n",
    "    except:\n",
    "        x = parse_sist_cruciform(glob.glob(pfx+'*')[0])\n",
    "    L = len(x)\n",
    "    data.append(np.sum(x)/L)\n",
    "    labels.append('Cen')\n",
    "\n",
    "\n",
    "fns = glob.glob('../data/sist/human/matched_random/*.algM.txt')\n",
    "for fn in fns:\n",
    "    x = parse_sist_melt(fn)\n",
    "    L = len(x)\n",
    "    data.append(np.sum(x)/L)\n",
    "    labels.append('Control')\n",
    "\n",
    "    \n",
    "\n",
    "fig = plt.figure(figsize=(1,1.25))\n",
    "ax = fig.add_subplot(111)\n",
    "    \n",
    "colors = [blue,gray]\n",
    "data = np.array(data)\n",
    "labels = np.array(labels)\n",
    "names = ['Cen','Control']\n",
    "ax.set_title('DNA melting',size=12)\n",
    "# format_horiz_bar(ax,data,labels,names,xlabel='SIST score',colors=colors)\n",
    "format_vert_bar(ax,data,labels,names,ylabel='SIST score',colors=colors,ylim=(1.1e-2,2.2e-2),yticks=(1.1e-2,2.2e-2))\n",
    "plt.savefig('../figures/human_sist_melt.svg')"
   ]
  },
  {
   "cell_type": "code",
   "execution_count": 4,
   "metadata": {},
   "outputs": [
    {
     "data": {
      "image/png": "[encoded data removed]",
      "text/plain": [
       "<matplotlib.figure.Figure at 0x10dc2f990>"
      ]
     },
     "metadata": {},
     "output_type": "display_data"
    }
   ],
   "source": [
    "data = []\n",
    "labels = []\n",
    "\n",
    "fns = glob.glob('../data/sist/human/neocen/*.algC.txt')\n",
    "pfxs = set([fn.rsplit('_',1)[0] for fn in fns])\n",
    "for pfx in pfxs:\n",
    "    x = stitch_sist(glob.glob(pfx+'*.algC.txt'),dtype='c')\n",
    "    L = len(x)\n",
    "    data.append(np.sum(x)/L)\n",
    "    labels.append('Neo')\n",
    "\n",
    "fns = glob.glob('../data/sist/human/matched_random/*.algC.txt')\n",
    "for fn in fns:\n",
    "    x = parse_sist_cruciform(fn)\n",
    "    L = len(x)\n",
    "    data.append(np.sum(x)/L)\n",
    "    labels.append('Control')\n",
    "\n",
    "fig = plt.figure(figsize=(1,1.25))\n",
    "ax = fig.add_subplot(111)\n",
    "    \n",
    "colors = [brown,gray]\n",
    "data = np.array(data)\n",
    "labels = np.array(labels)\n",
    "names = ['Neo','Control']\n",
    "# format_horiz_bar(ax,data,labels,names,xlabel='SIST score',colors=colors)\n",
    "format_vert_bar(ax,data,labels,names,ylabel='Score',colors=colors,yticks=(0,5e-3),ylim=(0,5e-3))\n",
    "ax.set_title('Cruciform\\nextrusion',size=12)\n",
    "plt.savefig('../figures/human_sist_neocen_cruc.svg')"
   ]
  },
  {
   "cell_type": "code",
   "execution_count": 5,
   "metadata": {},
   "outputs": [
    {
     "data": {
      "image/png": "[encoded data removed]",
      "text/plain": [
       "<matplotlib.figure.Figure at 0x10edcf650>"
      ]
     },
     "metadata": {},
     "output_type": "display_data"
    }
   ],
   "source": [
    "data = []\n",
    "labels = []\n",
    "\n",
    "fns = glob.glob('../data/sist/human/neocen/*.algM.txt')\n",
    "pfxs = set([fn.rsplit('_',1)[0] for fn in fns])\n",
    "for pfx in pfxs:\n",
    "    x = stitch_sist(glob.glob(pfx+'*.algM.txt'),dtype='melt')\n",
    "    L = len(x)\n",
    "    data.append(np.sum(x)/L)\n",
    "    labels.append('Neo')\n",
    "\n",
    "fns = glob.glob('../data/sist/human/matched_random/*.algM.txt')\n",
    "for fn in fns:\n",
    "    x = parse_sist_melt(fn)\n",
    "    L = len(x)\n",
    "    data.append(np.sum(x)/L)\n",
    "    labels.append('Control')\n",
    "\n",
    "fig = plt.figure(figsize=(1,1.25))\n",
    "ax = fig.add_subplot(111)\n",
    "    \n",
    "# colors = ['#78aed2',gray]\n",
    "colors = [blue,gray]\n",
    "data = np.array(data)\n",
    "labels = np.array(labels)\n",
    "names = ['Neo','Control']\n",
    "format_vert_bar(ax,data,labels,names,ylabel='Score',colors=colors,yticks=(1.25e-2,2.5e-2),ylim=(1.25e-2,2.5e-2))\n",
    "\n",
    "ax.set_title('DNA melting',size=12)\n",
    "plt.savefig('../figures/human_sist_neocen_melt.svg')"
   ]
  },
  {
   "cell_type": "code",
   "execution_count": 9,
   "metadata": {},
   "outputs": [
    {
     "data": {
      "image/png": "[encoded data removed]",
      "text/plain": [
       "<matplotlib.figure.Figure at 0x11130e290>"
      ]
     },
     "metadata": {},
     "output_type": "display_data"
    }
   ],
   "source": [
    "fns = glob.glob('../data/sist/human/matched_random/*.algM.txt')\n",
    "\n",
    "random = []\n",
    "\n",
    "for fn in fns:\n",
    "    x = parse_sist_melt(fn)\n",
    "    L = len(x)\n",
    "    random.append(np.sum(x)/L)\n",
    "\n",
    "    \n",
    "fns = glob.glob('../data/sist/human/bacs/*.algM.txt')\n",
    "\n",
    "cen = []\n",
    "\n",
    "pfxs = set([fn.rsplit('_',1)[0] for fn in fns])\n",
    "\n",
    "for pfx in pfxs:\n",
    "    try:\n",
    "        x = stitch_sist(glob.glob(pfx+'*.algM.txt'),dtype='melt')\n",
    "    except:\n",
    "        x = parse_sist_melt(glob.glob(pfx+'*')[0])\n",
    "    L = len(x)\n",
    "    cen.append(np.sum(x)/L)\n",
    "\n",
    "fns = glob.glob('../data/sist/human/neocen/*.algM.txt')\n",
    "\n",
    "neocen = []\n",
    "\n",
    "pfxs = set([fn.rsplit('_',1)[0] for fn in fns])\n",
    "\n",
    "for pfx in pfxs:\n",
    "    x = stitch_sist(glob.glob(pfx+'*.algM.txt'),dtype='melt')\n",
    "    L = len(x)\n",
    "    neocen.append(np.sum(x)/L)\n",
    "\n",
    "fig = plt.figure(figsize=(2.4,2.5))\n",
    "ax = fig.add_subplot(111)\n",
    "colors = ['#1f78b4','#d9d9d9']\n",
    "bp = sns.boxplot(y=cen+random,x=['Alphoid']*len(cen)+['Background']*len(random),\n",
    "            fliersize=0,palette=colors,width=0.4)\n",
    "ax.xaxis.set_tick_params(length=0)\n",
    "ax.set_xticklabels(['Alphoid','Background'],size=14)\n",
    "setp(ax.get_yticklabels(),size=14)\n",
    "ax.ticklabel_format(axis='y', style='sci', scilimits=(-2,2),size=14)\n",
    "ax.yaxis.get_offset_text().set_fontsize(12)\n",
    "ax.set_ylabel('SIST melt score',size=14)\n",
    "plt.ylim(1e-2,2.2e-2)\n",
    "sns.despine(ax=ax,trim=True,bottom=True)\n",
    "plt.title('DNA melting',size=16,y=1.08)\n",
    "plt.savefig('../figures/human_sist_melt.svg')"
   ]
  },
  {
   "cell_type": "markdown",
   "metadata": {},
   "source": [
    "#### Chicken - unique cen"
   ]
  },
  {
   "cell_type": "code",
   "execution_count": 61,
   "metadata": {},
   "outputs": [
    {
     "data": {
      "image/png": "[encoded data removed]",
      "text/plain": [
       "<matplotlib.figure.Figure at 0x10f187e10>"
      ]
     },
     "metadata": {},
     "output_type": "display_data"
    }
   ],
   "source": [
    "# data = []\n",
    "# labels = []\n",
    "\n",
    "# fns = glob.glob('../data/sist/chicken/unique_cen/*.algM.txt')\n",
    "# pfxs = set([fn.rsplit('_',1)[0] for fn in fns])\n",
    "# for pfx in pfxs:\n",
    "#     x = stitch_sist(glob.glob(pfx+'*.algM.txt'),dtype='melt')\n",
    "#     L = len(x)\n",
    "#     data.append(np.sum(x)/L)\n",
    "#     labels.append('Cen')\n",
    "\n",
    "# fns = glob.glob('../data/sist/chicken/matched_random/*.algM.txt')\n",
    "# pfxs = set([fn.rsplit('_',1)[0] for fn in fns])\n",
    "# for pfx in pfxs:\n",
    "#     x = stitch_sist(glob.glob(pfx+'*.algM.txt'),dtype='melt')\n",
    "#     L = len(x)\n",
    "#     data.append(np.sum(x)/L)\n",
    "#     labels.append('Control')\n",
    "\n",
    "    \n",
    "\n",
    "fig = plt.figure(figsize=(1,1.25))\n",
    "ax = fig.add_subplot(111)\n",
    "\n",
    "colors = [blue,gray]\n",
    "data = np.array(data)\n",
    "labels = np.array(labels)\n",
    "names = ['Cen','Control']\n",
    "format_vert_bar(ax,data,labels,names,ylabel='Score',colors=colors,ylim=(1.5e-2,3e-2),\n",
    "                yticks=(1.5e-2,3e-2))\n",
    "plt.title('DNA melting',size=12)\n",
    "plt.savefig('../figures/chicken_sist_melt.svg')"
   ]
  },
  {
   "cell_type": "code",
   "execution_count": 59,
   "metadata": {},
   "outputs": [
    {
     "data": {
      "image/png": "[encoded data removed]",
      "text/plain": [
       "<matplotlib.figure.Figure at 0x10ed20ed0>"
      ]
     },
     "metadata": {},
     "output_type": "display_data"
    }
   ],
   "source": [
    "\n",
    "# data = []\n",
    "# labels = []\n",
    "\n",
    "# fns = glob.glob('../data/sist/chicken/unique_cen/*.algC.txt')\n",
    "# pfxs = set([fn.rsplit('_',1)[0] for fn in fns])\n",
    "# for pfx in pfxs:\n",
    "#     x = stitch_sist(glob.glob(pfx+'*.algC.txt'),dtype='cruc')\n",
    "#     L = len(x)\n",
    "#     data.append(np.sum(x)/L)\n",
    "#     labels.append('Cen')\n",
    "\n",
    "# fns = glob.glob('../data/sist/chicken/matched_random/*.algC.txt')\n",
    "# pfxs = set([fn.rsplit('_',1)[0] for fn in fns])\n",
    "\n",
    "# for pfx in pfxs:\n",
    "#     x = stitch_sist(glob.glob(pfx+'*.algC.txt'),dtype='cruc')\n",
    "#     L = len(x)\n",
    "#     data.append(np.sum(x)/L)\n",
    "#     labels.append('Control')\n",
    "\n",
    "    \n",
    "fig = plt.figure(figsize=(1,1.25))\n",
    "ax = fig.add_subplot(111)\n",
    "\n",
    "colors = [brown,gray]\n",
    "data = np.array(data)\n",
    "labels = np.array(labels)\n",
    "names = ['Cen','Control']\n",
    "format_vert_bar(ax,data,labels,names,ylabel='Score',colors=colors,ylim=(-1e-4,5e-3),\n",
    "                yticks=(0,5e-3))\n",
    "plt.title('Cruciform extrusion',size=12)\n",
    "plt.savefig('../figures/chicken_sist_cruciform.svg')"
   ]
  },
  {
   "cell_type": "code",
   "execution_count": 8,
   "metadata": {},
   "outputs": [
    {
     "data": {
      "image/png": "[encoded data removed]",
      "text/plain": [
       "<matplotlib.figure.Figure at 0x10f04d410>"
      ]
     },
     "metadata": {},
     "output_type": "display_data"
    }
   ],
   "source": [
    "data = []\n",
    "labels = []\n",
    "\n",
    "fns = glob.glob('../data/sist/chicken/neocen/*.algM.txt')\n",
    "pfxs = set([fn.rsplit('_',1)[0] for fn in fns])\n",
    "\n",
    "for pfx in pfxs:\n",
    "    x = stitch_sist(glob.glob(pfx+'*.algM.txt'),dtype='melt')\n",
    "    L = len(x)\n",
    "    data.append(np.sum(x)/L)\n",
    "    labels.append('Neo')\n",
    "\n",
    "\n",
    "fns = glob.glob('../data/sist/chicken/matched_random/*.algM.txt')\n",
    "\n",
    "pfxs = set([fn.rsplit('_',1)[0] for fn in fns])\n",
    "for pfx in pfxs:\n",
    "    x = stitch_sist(glob.glob(pfx+'*.algM.txt'),dtype='melt')\n",
    "    L = len(x)\n",
    "    data.append(np.sum(x)/L)\n",
    "    labels.append('Control')\n",
    "\n",
    "fig = plt.figure(figsize=(1,1.25))\n",
    "ax = fig.add_subplot(111)\n",
    "\n",
    "colors = [blue,gray]\n",
    "data = np.array(data)\n",
    "labels = np.array(labels)\n",
    "names = ['Neo','Control']\n",
    "format_vert_bar(ax,data,labels,names,ylabel='Score',colors=colors,ylim=(1.6e-2,2.8e-2),\n",
    "                yticks=(1.6e-2,2.8e-2))\n",
    "plt.title('DNA melting',size=12)\n",
    "plt.savefig('../figures/chicken_sist_neocen_melt.svg')"
   ]
  },
  {
   "cell_type": "code",
   "execution_count": 10,
   "metadata": {},
   "outputs": [
    {
     "data": {
      "image/png": "[encoded data removed]",
      "text/plain": [
       "<matplotlib.figure.Figure at 0x10f462150>"
      ]
     },
     "metadata": {},
     "output_type": "display_data"
    }
   ],
   "source": [
    "data = []\n",
    "labels = []\n",
    "\n",
    "fns = glob.glob('../data/sist/chicken/neocen/*.algC.txt')\n",
    "pfxs = set([fn.rsplit('_',1)[0] for fn in fns])\n",
    "\n",
    "for pfx in pfxs:\n",
    "    x = stitch_sist(glob.glob(pfx+'*.algC.txt'),dtype='c')\n",
    "    L = len(x)\n",
    "    data.append(np.sum(x)/L)\n",
    "    labels.append('Neo')\n",
    "\n",
    "\n",
    "fns = glob.glob('../data/sist/chicken/matched_random/*.algC.txt')\n",
    "\n",
    "pfxs = set([fn.rsplit('_',1)[0] for fn in fns])\n",
    "for pfx in pfxs:\n",
    "    x = stitch_sist(glob.glob(pfx+'*.algC.txt'),dtype='c')\n",
    "    L = len(x)\n",
    "    data.append(np.sum(x)/L)\n",
    "    labels.append('Control')\n",
    "\n",
    "# format_horiz_bar(ax,data,labels,names,xlabel='SIST score',colors=colors,xlim=(0,6e-3))\n",
    "fig = plt.figure(figsize=(1,1.25))\n",
    "ax = fig.add_subplot(111)\n",
    "\n",
    "colors = [blue,gray]\n",
    "data = np.array(data)\n",
    "labels = np.array(labels)\n",
    "names = ['Neo','Control']\n",
    "format_vert_bar(ax,data,labels,names,ylabel='Score',colors=colors,ylim=(0,6e-3),\n",
    "                yticks=(0,6e-3))\n",
    "plt.title('Cruciform extrusion',size=12)\n",
    "plt.savefig('../figures/chicken_sist_neocen_cruc.svg')"
   ]
  },
  {
   "cell_type": "markdown",
   "metadata": {},
   "source": [
    "#### Pombe"
   ]
  },
  {
   "cell_type": "code",
   "execution_count": 13,
   "metadata": {
    "scrolled": false
   },
   "outputs": [
    {
     "data": {
      "image/png": "[encoded data removed]",
      "text/plain": [
       "<matplotlib.figure.Figure at 0x10dc4be50>"
      ]
     },
     "metadata": {},
     "output_type": "display_data"
    }
   ],
   "source": [
    "data = []\n",
    "labels = []\n",
    "\n",
    "fns = glob.glob('../data/sist/pombe/cen/*.algC.txt')\n",
    "pfxs = set([fn.rsplit('_',1)[0] for fn in fns])\n",
    "for pfx in pfxs:\n",
    "    x = stitch_sist(glob.glob(pfx+'*.algC.txt'),dtype='c')\n",
    "    L = len(x)\n",
    "    data.append(np.sum(x)/L)\n",
    "    labels.append('Cen')\n",
    "\n",
    "fns = glob.glob('../data/sist/pombe/matched_random/*.algC.txt')\n",
    "pfxs = set([fn.rsplit('_',1)[0] for fn in fns])\n",
    "for pfx in pfxs:\n",
    "    x = stitch_sist(glob.glob(pfx+'*.algC.txt'),dtype='c')\n",
    "    L = len(x)\n",
    "    data.append(np.sum(x)/L)\n",
    "    labels.append('Control')\n",
    "\n",
    "fig = plt.figure(figsize=(1,1.25))\n",
    "ax = fig.add_subplot(111)\n",
    "\n",
    "colors = [brown,gray]\n",
    "data = np.array(data)\n",
    "labels = np.array(labels)\n",
    "names = ['Cen','Control']\n",
    "# format_horiz_bar(ax,data,labels,names,xlabel='SIST score',colors=colors,iqrscale=1.6)\n",
    "format_vert_bar(ax,data,labels,names,ylabel='Score',colors=colors,ylim=(-5e-4,8e-3),\n",
    "                yticks=(0,8e-3))\n",
    "plt.title('Cruciform extrusion',size=12)\n",
    "plt.title('Cruciform extrusion',size=12)\n",
    "plt.savefig('../figures/pombe_sist_cruciform.svg')"
   ]
  },
  {
   "cell_type": "code",
   "execution_count": 16,
   "metadata": {},
   "outputs": [
    {
     "data": {
      "image/png": "[encoded data removed]",
      "text/plain": [
       "<matplotlib.figure.Figure at 0x10ee9ea90>"
      ]
     },
     "metadata": {},
     "output_type": "display_data"
    }
   ],
   "source": [
    "# data = []\n",
    "# labels = []\n",
    "\n",
    "# fns = glob.glob('../data/sist/pombe/cen/*.algM.txt')\n",
    "# pfxs = set([fn.rsplit('_',1)[0] for fn in fns])\n",
    "# for pfx in pfxs:\n",
    "#     x = stitch_sist(glob.glob(pfx+'*.algM.txt'),dtype='melt')\n",
    "#     L = len(x)\n",
    "#     data.append(np.sum(x)/L)\n",
    "#     labels.append('Cen')\n",
    "\n",
    "# fns = glob.glob('../data/sist/pombe/matched_random/*.algM.txt')\n",
    "# pfxs = set([fn.rsplit('_',1)[0] for fn in fns])\n",
    "# for pfx in pfxs:\n",
    "#     x = stitch_sist(glob.glob(pfx+'*.algM.txt'),dtype='melt')\n",
    "#     L = len(x)\n",
    "#     data.append(np.sum(x)/L)\n",
    "#     labels.append('Control')\n",
    "\n",
    "fig = plt.figure(figsize=(1,1.25))\n",
    "ax = fig.add_subplot(111)\n",
    "\n",
    "colors = [blue,gray]\n",
    "data = np.array(data)\n",
    "labels = np.array(labels)\n",
    "names = ['Cen','Control']\n",
    "# format_horiz_bar(ax,data,labels,names,xlabel='SIST score',colors=colors,iqrscale=1.7)\n",
    "format_vert_bar(ax,data,labels,names,ylabel='Score',colors=colors,ylim=(2e-2,2.9e-2),\n",
    "                yticks=(2.1e-2,2.9e-2))\n",
    "plt.title('DNA melting',size=12)\n",
    "plt.savefig('../figures/pombe_sist_melt.svg')"
   ]
  },
  {
   "cell_type": "markdown",
   "metadata": {},
   "source": [
    "#### Cerevisiae"
   ]
  },
  {
   "cell_type": "code",
   "execution_count": 20,
   "metadata": {},
   "outputs": [
    {
     "data": {
      "image/png": "[encoded data removed]",
      "text/plain": [
       "<matplotlib.figure.Figure at 0x10d9e5fd0>"
      ]
     },
     "metadata": {},
     "output_type": "display_data"
    }
   ],
   "source": [
    "data = []\n",
    "labels = []\n",
    "\n",
    "fns = glob.glob('../data/sist/sacCer/cen/*.algM.txt')\n",
    "for fn in fns:\n",
    "    x = parse_sist_melt(fn)\n",
    "    L = len(x)\n",
    "    data.append(np.sum(x)/L)\n",
    "    labels.append('Cen')\n",
    "\n",
    "fns = glob.glob('../data/sist/sacCer/matched_random/*.algM.txt')\n",
    "for fn in fns:\n",
    "    x = parse_sist_melt(fn)\n",
    "    L = len(x)\n",
    "    data.append(np.sum(x)/L)\n",
    "    labels.append('Control')\n",
    "    \n",
    "fig = plt.figure(figsize=(1,1.25))\n",
    "ax = fig.add_subplot(111)\n",
    "colors = [blue,gray]\n",
    "\n",
    "data = np.array(data)\n",
    "labels = np.array(labels)\n",
    "names = ['Cen','Control']\n",
    "format_vert_bar(ax,data,labels,names,ylabel='Score',colors=colors,ylim=(0.75e-2,3.5e-2),\n",
    "                yticks=(1e-2,3.5e-2))\n",
    "\n",
    "plt.title('DNA melting',size=12)\n",
    "plt.savefig('../figures/sc2_sist_melt.svg')"
   ]
  },
  {
   "cell_type": "code",
   "execution_count": 24,
   "metadata": {},
   "outputs": [
    {
     "data": {
      "image/png": "[encoded data removed]",
      "text/plain": [
       "<matplotlib.figure.Figure at 0x10f56a050>"
      ]
     },
     "metadata": {},
     "output_type": "display_data"
    }
   ],
   "source": [
    "data = []\n",
    "labels = []\n",
    "\n",
    "fns = glob.glob('../data/sist/sacCer/cen/*.algC.txt')\n",
    "for fn in fns:\n",
    "    x = parse_sist_cruciform(fn)\n",
    "    L = len(x)\n",
    "    data.append(np.sum(x)/L)\n",
    "    labels.append('Cen')\n",
    "\n",
    "fns = glob.glob('../data/sist/sacCer/matched_random/*.algC.txt')\n",
    "for fn in fns:\n",
    "    x = parse_sist_cruciform(fn)\n",
    "    L = len(x)\n",
    "    data.append(np.sum(x)/L)\n",
    "    labels.append('Control')\n",
    "    \n",
    "fig = plt.figure(figsize=(1,1.25))\n",
    "ax = fig.add_subplot(111)\n",
    "\n",
    "colors = [brown,gray]\n",
    "data = np.array(data)\n",
    "labels = np.array(labels)\n",
    "names = ['Cen','Control']\n",
    "# format_horiz_bar(ax,data,labels,names,xlabel='SIST score',colors=colors,iqrscale=0.5)\n",
    "format_vert_bar(ax,data,labels,names,ylabel='Score',colors=colors,ylim=(-0.1e-4,0.55e-3),\n",
    "                yticks=(0,0.55e-3))\n",
    "\n",
    "\n",
    "plt.title('Cruciform extrusion',size=12)\n",
    "plt.savefig('../figures/sc2_sist_cruc.svg')"
   ]
  },
  {
   "cell_type": "code",
   "execution_count": 33,
   "metadata": {},
   "outputs": [
    {
     "data": {
      "image/png": "[encoded data removed]",
      "text/plain": [
       "<matplotlib.figure.Figure at 0x10eea9310>"
      ]
     },
     "metadata": {},
     "output_type": "display_data"
    }
   ],
   "source": [
    "# data = []\n",
    "# labels = []\n",
    "\n",
    "# fns = glob.glob('../data/sist/mouse/misat/*.algM.txt')\n",
    "# for fn in fns:\n",
    "#     x = parse_sist_melt(fn)\n",
    "#     L = len(x)\n",
    "#     data.append(np.sum(x)/L)\n",
    "#     labels.append('Cen')\n",
    "\n",
    "# fns = glob.glob('../data/sist/mouse/matched_random_misat/*.algM.txt')\n",
    "# for fn in fns:\n",
    "#     x = parse_sist_melt(fn)\n",
    "#     L = len(x)\n",
    "#     data.append(np.sum(x)/L)\n",
    "#     labels.append('Control')\n",
    "    \n",
    "fig = plt.figure(figsize=(1,1.25))\n",
    "ax = fig.add_subplot(111)\n",
    "colors = [blue,gray]\n",
    "\n",
    "data = np.array(data)\n",
    "labels = np.array(labels)\n",
    "names = ['Cen','Control']\n",
    "format_vert_bar(ax,data,labels,names,ylabel='Score',colors=colors,ylim=(0.9e-2,3e-2),\n",
    "                yticks=(1e-2,3e-2))\n",
    "\n",
    "plt.title('DNA melting',size=12)\n",
    "plt.savefig('../figures/misat_sist_melt.svg')"
   ]
  },
  {
   "cell_type": "code",
   "execution_count": 36,
   "metadata": {},
   "outputs": [
    {
     "data": {
      "image/png": "[encoded data removed]",
      "text/plain": [
       "<matplotlib.figure.Figure at 0x10f4a5c50>"
      ]
     },
     "metadata": {},
     "output_type": "display_data"
    }
   ],
   "source": [
    "data = []\n",
    "labels = []\n",
    "\n",
    "fns = glob.glob('../data/sist/mouse/misat//*.algC.txt')\n",
    "for fn in fns:\n",
    "    x = parse_sist_cruciform(fn)\n",
    "    L = len(x)\n",
    "    data.append(np.sum(x)/L)\n",
    "    labels.append('Cen')\n",
    "\n",
    "fns = glob.glob('../data/sist/mouse/matched_random_misat//*.algC.txt')\n",
    "for fn in fns:\n",
    "    x = parse_sist_cruciform(fn)\n",
    "    L = len(x)\n",
    "    data.append(np.sum(x)/L)\n",
    "    labels.append('Control')\n",
    "    \n",
    "fig = plt.figure(figsize=(1,1.25))\n",
    "ax = fig.add_subplot(111)\n",
    "\n",
    "colors = [brown,gray]\n",
    "data = np.array(data)\n",
    "labels = np.array(labels)\n",
    "names = ['Cen','Control']\n",
    "# format_horiz_bar(ax,data,labels,names,xlabel='SIST score',colors=colors,iqrscale=0.5)\n",
    "format_vert_bar(ax,data,labels,names,ylabel='Score',colors=colors,ylim=(-0.1e-4,0.25e-2),\n",
    "                yticks=(0,0.25e-2))\n",
    "\n",
    "\n",
    "plt.title('Cruciform extrusion',size=12)\n",
    "plt.savefig('../figures/misat_sist_cruc.svg')"
   ]
  },
  {
   "cell_type": "code",
   "execution_count": 34,
   "metadata": {},
   "outputs": [
    {
     "data": {
      "image/png": "[encoded data removed]",
      "text/plain": [
       "<matplotlib.figure.Figure at 0x10f2aa350>"
      ]
     },
     "metadata": {},
     "output_type": "display_data"
    }
   ],
   "source": [
    "data = []\n",
    "labels = []\n",
    "\n",
    "fns = glob.glob('../data/sist/mouse/masat/*.algM.txt')\n",
    "for fn in fns:\n",
    "    x = parse_sist_melt(fn)\n",
    "    L = len(x)\n",
    "    data.append(np.sum(x)/L)\n",
    "    labels.append('Cen')\n",
    "\n",
    "fns = glob.glob('../data/sist/mouse/matched_random_masat/*.algM.txt')\n",
    "for fn in fns:\n",
    "    x = parse_sist_melt(fn)\n",
    "    L = len(x)\n",
    "    data.append(np.sum(x)/L)\n",
    "    labels.append('Control')\n",
    "    \n",
    "fig = plt.figure(figsize=(1,1.25))\n",
    "ax = fig.add_subplot(111)\n",
    "colors = [blue,gray]\n",
    "\n",
    "data = np.array(data)\n",
    "labels = np.array(labels)\n",
    "names = ['Cen','Control']\n",
    "format_vert_bar(ax,data,labels,names,ylabel='Score',colors=colors,ylim=(0.9e-2,3e-2),\n",
    "                yticks=(1e-2,3e-2))\n",
    "\n",
    "plt.title('DNA melting',size=12)\n",
    "plt.savefig('../figures/masat_sist_melt.svg')"
   ]
  },
  {
   "cell_type": "code",
   "execution_count": 51,
   "metadata": {},
   "outputs": [
    {
     "data": {
      "image/png": "[encoded data removed]",
      "text/plain": [
       "<matplotlib.figure.Figure at 0x10f13c790>"
      ]
     },
     "metadata": {},
     "output_type": "display_data"
    }
   ],
   "source": [
    "data = []\n",
    "labels = []\n",
    "\n",
    "fns = glob.glob('../data/sist/mouse/masat//*.algC.txt')\n",
    "for fn in fns:\n",
    "    x = parse_sist_cruciform(fn)\n",
    "    L = len(x)\n",
    "    data.append(np.sum(x)/L)\n",
    "    labels.append('Cen')\n",
    "\n",
    "fns = glob.glob('../data/sist/mouse/matched_random_masat//*.algC.txt')\n",
    "for fn in fns:\n",
    "    x = parse_sist_cruciform(fn)\n",
    "    L = len(x)\n",
    "    data.append(np.sum(x)/L)\n",
    "    labels.append('Control')\n",
    "    \n",
    "fig = plt.figure(figsize=(1,1.25))\n",
    "ax = fig.add_subplot(111)\n",
    "\n",
    "colors = [brown,gray]\n",
    "data = np.array(data)\n",
    "labels = np.array(labels)\n",
    "names = ['Cen','Control']\n",
    "# format_horiz_bar(ax,data,labels,names,xlabel='SIST score',colors=colors,iqrscale=0.5)\n",
    "format_vert_bar(ax,data,labels,names,ylabel='Score',colors=colors,ylim=(-0.1e-10,0.4e-9),\n",
    "                yticks=(0,0.4e-9))\n",
    "\n",
    "\n",
    "plt.title('Cruciform extrusion',size=12)\n",
    "plt.savefig('../figures/masat_sist_cruc.svg')"
   ]
  },
  {
   "cell_type": "code",
   "execution_count": 15,
   "metadata": {
    "scrolled": true
   },
   "outputs": [
    {
     "data": {
      "image/png": "[encoded data removed]",
      "text/plain": [
       "<matplotlib.figure.Figure at 0x11c247550>"
      ]
     },
     "metadata": {},
     "output_type": "display_data"
    }
   ],
   "source": [
    "\n",
    "fig = plt.figure(figsize=(3,4))\n",
    "ax = fig.add_subplot(111)\n",
    "colors = ['#e31a1c','#1f78b4','#d9d9d9']\n",
    "sns.boxplot(y=cen+neocen+random,x=['cen']*len(cen)+['neocen']*len(neocen)+['random']*len(random),\n",
    "            fliersize=0,palette=colors)\n",
    "ax.xaxis.set_tick_params(length=0)\n",
    "ax.set_xticklabels(['Cen','Neocen','Random'],size=14)\n",
    "setp(ax.get_yticklabels(),size=14)\n",
    "ax.ticklabel_format(axis='y', style='sci', scilimits=(-2,2),size=14)\n",
    "ax.yaxis.get_offset_text().set_fontsize(14)\n",
    "ax.set_ylabel('SIST cruciform score',size=14)\n",
    "# plt.ylim(-0.0001,0.004)\n",
    "sns.despine(ax=ax,trim=True,bottom=True)\n",
    "# plt.savefig('../figures/human_sist_cruc.svg')\n",
    "\n",
    "# sns.boxplot(y=list(random)+list(cen)+list(neocen),x=['random']*len(random)+['cen']*len(cen)+['neocen']*len(neocen),\n",
    "#             fliersize=0)\n",
    "# plt.xticks([])\n",
    "# plt.xlim([-0.5,3.5])\n",
    "# sns.despine(bottom=True,trim=True)\n",
    "\n",
    "\n",
    "    "
   ]
  },
  {
   "cell_type": "code",
   "execution_count": 157,
   "metadata": {
    "collapsed": true
   },
   "outputs": [],
   "source": [
    "yeasts = ['sacCer','sacMik','sacKud','sacDar','sacCas']\n",
    "\n",
    "dset = 'algM'\n",
    "\n",
    "data = []\n",
    "hue = []\n",
    "name = []\n",
    "\n",
    "for yeast in yeasts:\n",
    "    ydir = '../data/sist/'+yeast\n",
    "    \n",
    "    fns = glob.glob(ydir+'/matched_random/*'+dset+'.txt')\n",
    "    \n",
    "    for fn in fns:\n",
    "        if dset == 'algM':\n",
    "            x = parse_sist_melt(fn)\n",
    "        else:\n",
    "            x = parse_sist_cruciform(fn)\n",
    "        \n",
    "        L = len(x)\n",
    "        \n",
    "        data.append(np.sum(x[:])/L)\n",
    "        name.append(yeast)\n",
    "        hue.append('rand')\n",
    "        \n",
    "    fns = glob.glob(ydir+'/cen/*'+dset+'.txt')\n",
    "    \n",
    "    for fn in fns:\n",
    "        if dset == 'algM':\n",
    "            x = parse_sist_melt(fn)\n",
    "        else:\n",
    "            x = parse_sist_cruciform(fn)\n",
    "        \n",
    "        L = len(x)\n",
    "            \n",
    "        data.append(np.sum(x[:])/L)\n",
    "        name.append(yeast)\n",
    "        hue.append('cen')"
   ]
  },
  {
   "cell_type": "code",
   "execution_count": 158,
   "metadata": {},
   "outputs": [
    {
     "data": {
      "image/png": "[encoded data removed]",
      "text/plain": [
       "<matplotlib.figure.Figure at 0x1141e0590>"
      ]
     },
     "metadata": {},
     "output_type": "display_data"
    }
   ],
   "source": [
    "fig = plt.figure(figsize=(4,3))\n",
    "ax = fig.add_subplot(111)\n",
    "\n",
    "colors = ['#d9d9d9','#e31a1c']\n",
    "sns.boxplot(x=data,y=name,hue=hue,palette=colors,fliersize=0)\n",
    "# ax.set_xlim(-0.00001,0.0002)\n",
    "ax.ticklabel_format(axis='x', style='sci', scilimits=(-2,2),size=10)\n",
    "ax.set_yticklabels(['$\\it{S. cerevisiae}$',\n",
    "                    '$\\it{S. mikatae}$',\n",
    "                    '$\\it{S. kudriavzevii}$',\n",
    "                    '$\\it{S. dairenensis}$',\n",
    "                    '$\\it{S. castellii}$'],size=14)\n",
    "setp(ax.get_xticklabels(),size=12)\n",
    "ax.axes.yaxis.set_tick_params(length=0)\n",
    "ax.xaxis.get_offset_text().set_fontsize(12)\n",
    "ax.legend_.remove()\n",
    "ax.set_xlabel('SIST melt score',size=14)\n",
    "ax.hlines([0.5,1.5,2.5,3.5,4.5],0,0.035,linestyles='dotted',colors='grey')\n",
    "sns.despine(left=True,trim=True)\n",
    "plt.savefig('../figures/yeast_sist_melt.svg')"
   ]
  },
  {
   "cell_type": "code",
   "execution_count": 153,
   "metadata": {},
   "outputs": [
    {
     "data": {
      "image/png": "[encoded data removed]",
      "text/plain": [
       "<matplotlib.figure.Figure at 0x11527b490>"
      ]
     },
     "metadata": {},
     "output_type": "display_data"
    }
   ],
   "source": [
    "fig = plt.figure(figsize=(4,3))\n",
    "ax = fig.add_subplot(111)\n",
    "\n",
    "colors = ['#d9d9d9','#e31a1c']\n",
    "sns.boxplot(x=data,y=name,hue=hue,palette=colors,fliersize=0)\n",
    "# ax.set_xlim(-0.00001,0.0002)\n",
    "ax.ticklabel_format(axis='x', style='sci', scilimits=(-2,2),size=10)\n",
    "ax.set_yticklabels(['$\\it{S. cerevisiae}$',\n",
    "                    '$\\it{S. mikatae}$',\n",
    "                    '$\\it{S. kudriavzevii}$',\n",
    "                    '$\\it{S. dairenensis}$',\n",
    "                    '$\\it{S. castellii}$'],size=14)\n",
    "setp(ax.get_xticklabels(),size=12)\n",
    "ax.axes.yaxis.set_tick_params(length=0)\n",
    "ax.xaxis.get_offset_text().set_fontsize(12)\n",
    "ax.legend_.remove()\n",
    "ax.set_xlabel('SIST cruciform score',size=12)\n",
    "ax.set_xlim(-1.5e-4,1e-3)\n",
    "ax.hlines([0.5,1.5,2.5,3.5,4.5],0,1e-3,linestyles='dotted',colors='grey')\n",
    "sns.despine(left=True,trim=True)\n",
    "plt.savefig('../figures/yeast_sist_cruc.svg')"
   ]
  },
  {
   "cell_type": "code",
   "execution_count": 164,
   "metadata": {},
   "outputs": [],
   "source": [
    "fns = glob.glob('../data/sist/mouse/matched_random_masat/*.algC.txt')\n",
    "\n",
    "random_ma = []\n",
    "\n",
    "for fn in fns:\n",
    "    x = parse_sist_cruciform(fn)\n",
    "    L = len(x)\n",
    "#     print L\n",
    "    random_ma.append(np.sum(x)/L)\n",
    "\n",
    "    \n",
    "fns = glob.glob('../data/sist/mouse/masat/*.algC.txt')\n",
    "\n",
    "ma = []\n",
    "\n",
    "for fn in fns:\n",
    "\n",
    "    x = parse_sist_cruciform(fn)\n",
    "    L = len(x)\n",
    "    ma.append(np.sum(x)/L)\n",
    "\n",
    "fns = glob.glob('../data/sist/mouse/matched_random_misat//*.algC.txt')\n",
    "\n",
    "random_mi = []\n",
    "\n",
    "for fn in fns:\n",
    "    x = parse_sist_cruciform(fn)\n",
    "    L = len(x)\n",
    "    random_mi.append(np.sum(x)/L)\n",
    "\n",
    "\n",
    "    \n",
    "fns = glob.glob('../data/sist/mouse/misat/*.algC.txt')\n",
    "\n",
    "cen = []\n",
    "\n",
    "for fn in fns:\n",
    "\n",
    "    x = parse_sist_cruciform(fn)\n",
    "    L = len(x)\n",
    "    cen.append(np.sum(x)/L)"
   ]
  },
  {
   "cell_type": "code",
   "execution_count": 172,
   "metadata": {
    "scrolled": false
   },
   "outputs": [
    {
     "data": {
      "image/png": "[encoded data removed]",
      "text/plain": [
       "<matplotlib.figure.Figure at 0x112918850>"
      ]
     },
     "metadata": {},
     "output_type": "display_data"
    }
   ],
   "source": [
    "\n",
    "fig = plt.figure(figsize=(4,4))\n",
    "ax = fig.add_subplot(111)\n",
    "# colors = ['#e31a1c','#1f78b4','#d9d9d9']\n",
    "sns.boxplot(y=cen+random_mi+ma+random_ma,x=['cen']*len(cen)+['misat_rand']*len(random_mi)+['masat']*len(ma) + ['masat_rand']*len(random_ma),\n",
    "            fliersize=0,width=0.5)\n",
    "ax.xaxis.set_tick_params(length=0)\n",
    "ax.set_xticklabels(['MiSat','Random\\n(MiSat)','MaSat','Random\\n(MaSat)'],size=14)\n",
    "setp(ax.get_yticklabels(),size=14)\n",
    "ax.ticklabel_format(axis='y', style='sci', scilimits=(-2,2),size=14)\n",
    "ax.yaxis.get_offset_text().set_fontsize(14)\n",
    "ax.set_ylabel('SIST cruciform score',size=14)\n",
    "plt.ylim(-0.0001,0.003)\n",
    "sns.despine(ax=ax,trim=True,bottom=True)\n",
    "# plt.savefig('../figures/human_sist_cruc.svg')\n",
    "\n",
    "# sns.boxplot(y=list(random)+list(cen)+list(neocen),x=['random']*len(random)+['cen']*len(cen)+['neocen']*len(neocen),\n",
    "#             fliersize=0)\n",
    "# plt.xticks([])\n",
    "# plt.xlim([-0.5,3.5])\n",
    "# sns.despine(bottom=True,trim=True)\n",
    "\n",
    "\n",
    "plt.savefig('../figures/mouse_sist_cruc.svg')\n",
    "\n"
   ]
  },
  {
   "cell_type": "code",
   "execution_count": 8,
   "metadata": {},
   "outputs": [
    {
     "data": {
      "image/png": "[encoded data removed]",
      "text/plain": [
       "<matplotlib.figure.Figure at 0x1198629d0>"
      ]
     },
     "metadata": {},
     "output_type": "display_data"
    }
   ],
   "source": [
    "def read_gap_seq_bed(bedfn):\n",
    "    data = []\n",
    "    with open(bedfn,'r') as f:\n",
    "        for line in f:\n",
    "            line = line.rstrip().split()\n",
    "            data.append(float(line[-1]))\n",
    "    return data\n",
    "\n",
    "data = []\n",
    "labels = []\n",
    "\n",
    "neocen = read_gap_seq_bed('../data/gap_seq_neocen.bed')\n",
    "data.extend(neocen)\n",
    "labels.extend(['Neo']*len(neocen))\n",
    "\n",
    "control = read_gap_seq_bed('../data/gap_seq_background.bed')\n",
    "data.extend(control)\n",
    "labels.extend(['Control']*len(control))\n",
    "\n",
    "fig = plt.figure(figsize=(1,1.25))\n",
    "ax = fig.add_subplot(111)\n",
    "    \n",
    "colors = ['#1b6ca2',gray]\n",
    "data = np.array(data)\n",
    "labels = np.array(labels)\n",
    "names = ['Neo','Control']\n",
    "# format_horiz_bar(ax,data,labels,names,xlabel='GAP-seq coverage',colors=colors)\n",
    "format_vert_bar(ax,data,labels,names,ylabel='Coverage',colors=colors,ylim=(0,0.5),yticks=(0,0.5))\n",
    "ax.set_title('GAP-seq',size=12)\n",
    "plt.savefig('../figures/human_gap_seq.svg')"
   ]
  },
  {
   "cell_type": "code",
   "execution_count": 3,
   "metadata": {},
   "outputs": [
    {
     "data": {
      "text/plain": [
       "<matplotlib.text.Text at 0x1100d6590>"
      ]
     },
     "execution_count": 3,
     "metadata": {},
     "output_type": "execute_result"
    },
    {
     "data": {
      "image/png": "[encoded data removed]",
      "text/plain": [
       "<matplotlib.figure.Figure at 0x10fdf4090>"
      ]
     },
     "metadata": {},
     "output_type": "display_data"
    }
   ],
   "source": [
    "data = []\n",
    "labels = []\n",
    "\n",
    "fns = glob.glob('../data/sist/rice/cen/*.algC.txt')\n",
    "for fn in fns:\n",
    "    x = parse_sist_cruciform(fn)\n",
    "    L = len(x)\n",
    "    data.append(np.sum(x)/L)\n",
    "    labels.append('Cen')\n",
    "\n",
    "fns = glob.glob('../data/sist/rice/matched_random/*.algC.txt')\n",
    "for fn in fns:\n",
    "    x = parse_sist_cruciform(fn)\n",
    "    L = len(x)\n",
    "    data.append(np.sum(x)/L)\n",
    "    labels.append('Control')\n",
    "    \n",
    "fig = plt.figure(figsize=(1,1.25))\n",
    "ax = fig.add_subplot(111)\n",
    "\n",
    "colors = [brown,gray]\n",
    "data = np.array(data)\n",
    "labels = np.array(labels)\n",
    "names = ['Cen','Control']\n",
    "# format_horiz_bar(ax,data,labels,names,xlabel='SIST score',colors=colors,iqrscale=0.5)\n",
    "format_vert_bar(ax,data,labels,names,ylabel='Score',colors=colors,ylim=(-0.1e-10,0.4e-9),\n",
    "                yticks=(0,0.4e-9))\n",
    "\n",
    "\n",
    "plt.title('Cruciform extrusion',size=12)\n",
    "# plt.savefig('../figures/masat_sist_cruc.svg')"
   ]
  },
  {
   "cell_type": "code",
   "execution_count": 4,
   "metadata": {},
   "outputs": [
    {
     "data": {
      "text/plain": [
       "<matplotlib.text.Text at 0x11011f2d0>"
      ]
     },
     "execution_count": 4,
     "metadata": {},
     "output_type": "execute_result"
    },
    {
     "data": {
      "image/png": "[encoded data removed]",
      "text/plain": [
       "<matplotlib.figure.Figure at 0x1100d6d50>"
      ]
     },
     "metadata": {},
     "output_type": "display_data"
    }
   ],
   "source": [
    "data = []\n",
    "labels = []\n",
    "\n",
    "fns = glob.glob('../data/sist/rice/cen/*.algM.txt')\n",
    "for fn in fns:\n",
    "    x = parse_sist_melt(fn)\n",
    "    L = len(x)\n",
    "    data.append(np.sum(x)/L)\n",
    "    labels.append('Cen')\n",
    "\n",
    "fns = glob.glob('../data/sist/rice/matched_random/*.algM.txt')\n",
    "for fn in fns:\n",
    "    x = parse_sist_melt(fn)\n",
    "    L = len(x)\n",
    "    data.append(np.sum(x)/L)\n",
    "    labels.append('Control')\n",
    "    \n",
    "fig = plt.figure(figsize=(1,1.25))\n",
    "ax = fig.add_subplot(111)\n",
    "colors = [blue,gray]\n",
    "\n",
    "data = np.array(data)\n",
    "labels = np.array(labels)\n",
    "names = ['Cen','Control']\n",
    "format_vert_bar(ax,data,labels,names,ylabel='Score',colors=colors,ylim=(0.9e-2,3e-2),\n",
    "                yticks=(1e-2,3e-2))\n",
    "\n",
    "plt.title('DNA melting',size=12)\n",
    "# plt.savefig('../figures/masat_sist_melt.svg')"
   ]
  }
 ],
 "metadata": {
  "kernelspec": {
   "display_name": "Python 2",
   "language": "python",
   "name": "python2"
  },
  "language_info": {
   "codemirror_mode": {
    "name": "ipython",
    "version": 2
   },
   "file_extension": ".py",
   "mimetype": "text/x-python",
   "name": "python",
   "nbconvert_exporter": "python",
   "pygments_lexer": "ipython2",
   "version": "2.7.16"
  }
 },
 "nbformat": 4,
 "nbformat_minor": 2
}
