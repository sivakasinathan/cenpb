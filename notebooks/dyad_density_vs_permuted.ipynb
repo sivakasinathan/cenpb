{
 "cells": [
  {
   "cell_type": "code",
   "execution_count": 1,
   "metadata": {},
   "outputs": [
    {
     "name": "stdout",
     "output_type": "stream",
     "text": [
      "Populating the interactive namespace from numpy and matplotlib\n"
     ]
    }
   ],
   "source": [
    "from __future__ import division\n",
    "%pylab inline\n",
    "import glob\n",
    "import seaborn as sns\n",
    "sns.set_style('ticks')\n",
    "sns.set_context('paper')"
   ]
  },
  {
   "cell_type": "code",
   "execution_count": 2,
   "metadata": {},
   "outputs": [],
   "source": [
    "def iter_palindrome(fn):\n",
    "        \n",
    "    with open(fn,'r') as f:\n",
    "        coords = []\n",
    "        seqs = []\n",
    "        name = None\n",
    "        out = False\n",
    "\n",
    "        for line in f:\n",
    "            line = line.rstrip()\n",
    "            if 'Palindromes of' in line:\n",
    "                name = line.split()[2]\n",
    "            elif ':' in line or len(line) == 0:\n",
    "                continue\n",
    "            else:\n",
    "                if '|' in line:\n",
    "                    nm = line.count('|')\n",
    "                    out = True\n",
    "                    continue\n",
    "                else:\n",
    "                    line = line.split()\n",
    "                    s,e = int(line[0]),int(line[-1])\n",
    "                    if s > e:\n",
    "                        s,e = e,s\n",
    "                    s -= 1\n",
    "                    coords.append((s,e))\n",
    "                    seqs.append(line[1].upper())\n",
    "                    \n",
    "                if out:\n",
    "                    \n",
    "                    G = coords[1][0]-coords[0][1]\n",
    "                    \n",
    "                    for (a,b),c in zip(coords,seqs):\n",
    "                        yield name,a,b,c,nm/len(c),G\n",
    "                        \n",
    "                    out = False\n",
    "                    coords = []\n",
    "                    seqs = []\n",
    "                    \n",
    "\n",
    "def pal2mat(fn,minstem=5,maxstem=20,mingap=0,maxgap=20,pct_id=0.8,pidscale=False,norm=True):\n",
    "    mat = np.zeros((maxstem-minstem+1,maxgap-mingap+1))\n",
    "    \n",
    "    nreads = 0\n",
    "    for _,s,e,seq,pi,G in iter_palindrome(fn):\n",
    "        nreads+=1\n",
    "        L = len(seq)\n",
    "        \n",
    "        if (L < minstem or L > maxstem):\n",
    "            continue\n",
    "        if (G < mingap or G > maxgap):\n",
    "            continue\n",
    "        if pi < pct_id:\n",
    "            continue\n",
    "        \n",
    "        if not pidscale:\n",
    "            mat[L-minstem,G-mingap] += 1\n",
    "        else:\n",
    "            mat[L-minstem,G-mingap] += pct_id\n",
    "    \n",
    "    return mat, nreads\n",
    "                \n",
    "            "
   ]
  },
  {
   "cell_type": "code",
   "execution_count": 9,
   "metadata": {},
   "outputs": [],
   "source": [
    "pfxs = ['../data/palindrome/multi_species_sampled_reads/homo_sapiens',\n",
    "       '../data/palindrome/multi_species_sampled_reads/pan_troglodytes',\n",
    "       '../data/palindrome/multi_species_sampled_reads/pan_paniscus',\n",
    "       '../data/palindrome/multi_species_sampled_reads/gorilla_gorilla',\n",
    "       '../data/palindrome/multi_species_sampled_reads/gorilla_berengei',\n",
    "       '../data/palindrome/multi_species_sampled_reads/pongo_abelii',\n",
    "       '../data/palindrome/multi_species_sampled_reads/pongo_pygmaeus',\n",
    "       '../data/palindrome/multi_species_sampled_reads/chlorocebus_aethiops',\n",
    "       '../data/palindrome/multi_species_sampled_reads/chlorocebus_pygerythrus',\n",
    "       '../data/palindrome/multi_species_sampled_reads/chlorocebus_sabaeus',\n",
    "       '../data/palindrome/multi_species_sampled_reads/macaca_mulatta',\n",
    "       '../data/palindrome/multi_species_sampled_reads/macaca_fascicularis',\n",
    "       '../data/palindrome/multi_species_sampled_reads/papio_anubis',\n",
    "        '../data/palindrome/multi_species_sampled_reads/mouse_misat',\n",
    "        '../data/palindrome/multi_species_sampled_reads/equus_caballus',\n",
    "        '../data/palindrome/multi_species_sampled_reads/chicken_sim',\n",
    "        '../data/palindrome/multi_species_sampled_reads/stickleback',\n",
    "        '../data/palindrome/multi_species_sampled_reads/pombe.cen_core.sim_reads',\n",
    "        '../data/palindrome/multi_species_sampled_reads/oryza_sativa',\n",
    "        '../data/palindrome/multi_species_sampled_reads/zea_mays',\n",
    "        '../data/palindrome/multi_species_sampled_reads/arabidopsis_thaliana'\n",
    "        \n",
    "       ]\n"
   ]
  },
  {
   "cell_type": "code",
   "execution_count": null,
   "metadata": {
    "scrolled": false
   },
   "outputs": [],
   "source": [
    "data = []\n",
    "\n",
    "for pfx in pfxs:\n",
    "    x,xn = pal2mat(pfx+'.txt',minstem=3,maxstem=10,maxgap=20,pct_id =0.8)\n",
    "    y,_ = pal2mat(pfx+'.perm.s0.txt',minstem=3,maxstem=10,maxgap=20,pct_id =0.8)\n",
    "    \n",
    "    print pfx\n",
    "    \n",
    "    ratio = np.log2(np.sum(x,axis=1)/xn+1) - np.log2(np.sum(y,axis=1)/xn+1)\n",
    "\n",
    "    d = ratio\n",
    "\n",
    "    data.append(d)\n",
    "    imshow(d.reshape(1,(len(d))),vmin=-0.001,vmax=0.25,cmap=cm.bone_r,rasterized=True,interpolation='none')\n",
    "    plt.xticks([])\n",
    "    plt.yticks([])\n",
    "    plt.show()\n",
    "        "
   ]
  },
  {
   "cell_type": "code",
   "execution_count": 15,
   "metadata": {},
   "outputs": [
    {
     "data": {
      "image/png": "[encoded data removed]",
      "text/plain": [
       "<matplotlib.figure.Figure at 0x1155bd4d0>"
      ]
     },
     "metadata": {},
     "output_type": "display_data"
    }
   ],
   "source": [
    "plt.imshow(np.array(data)[:,0:6],cmap=cm.bone_r,vmin=0.05,vmax=0.25,interpolation='none',rasterized=True)\n",
    "plt.axhline(6.5,c='black',ls='dotted',lw=1)\n",
    "plt.axhline(12.5,c='black',ls='dotted',lw=1)\n",
    "plt.axhline(13.5,c='black',ls='dotted',lw=1)\n",
    "plt.axhline(14.5,c='black',ls='dotted',lw=1)\n",
    "plt.axhline(15.5,c='black',ls='dotted',lw=1)\n",
    "plt.axhline(16.5,c='black',ls='dotted',lw=1)\n",
    "plt.axhline(17.5,c='black',ls='dotted',lw=1)\n",
    "plt.axvline(1.5,c='black',ls='dotted',lw=1)\n",
    "plt.xticks([])\n",
    "plt.yticks([])\n",
    "plt.savefig('../figures/dyad_density.heatmap.svg')"
   ]
  }
 ],
 "metadata": {
  "kernelspec": {
   "display_name": "Python 2",
   "language": "python",
   "name": "python2"
  },
  "language_info": {
   "codemirror_mode": {
    "name": "ipython",
    "version": 2
   },
   "file_extension": ".py",
   "mimetype": "text/x-python",
   "name": "python",
   "nbconvert_exporter": "python",
   "pygments_lexer": "ipython2",
   "version": "2.7.16"
  }
 },
 "nbformat": 4,
 "nbformat_minor": 2
}
