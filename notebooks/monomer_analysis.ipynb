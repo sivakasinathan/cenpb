{
 "cells": [
  {
   "cell_type": "markdown",
   "metadata": {},
   "source": [
    "### Analysis of *-seq data from satellite monomers"
   ]
  },
  {
   "cell_type": "code",
   "execution_count": 1,
   "metadata": {},
   "outputs": [
    {
     "name": "stdout",
     "output_type": "stream",
     "text": [
      "Populating the interactive namespace from numpy and matplotlib\n"
     ]
    }
   ],
   "source": [
    "from __future__ import division\n",
    "%pylab inline\n",
    "import seaborn as sns\n",
    "sns.set_style('ticks')\n",
    "sns.set_context('paper')\n",
    "from scipy.stats import kendalltau,pearsonr,spearmanr"
   ]
  },
  {
   "cell_type": "code",
   "execution_count": 4,
   "metadata": {},
   "outputs": [],
   "source": [
    "def parse_monomer_cvg(fn,norm=False):\n",
    "    data = {}\n",
    "    reads = {}\n",
    "    with open(fn,'r') as f:\n",
    "        for line in f:\n",
    "            line = line.strip().split()\n",
    "            name = line[0] + ':' + line[1] + '-' + line[2]\n",
    "            cvg = int(line[-1])\n",
    "            data[name] = cvg\n",
    "            \n",
    "            if line[0] in reads:\n",
    "                reads[line[0]] += cvg\n",
    "            else:\n",
    "                reads[line[0]] = cvg\n",
    "    \n",
    "    if norm:\n",
    "        tot = 0\n",
    "        for name in reads.keys():\n",
    "            tot += reads[name]\n",
    "        \n",
    "        for name in data.keys():\n",
    "            chrom = name.split(':')[0]\n",
    "            if reads[chrom] != 0:\n",
    "                data[name] *= reads[chrom]/tot\n",
    "            \n",
    "    return data\n",
    "\n",
    "def parse_rnafold(fn):\n",
    "    ctr = 0\n",
    "    data = {}\n",
    "    with open(fn,'r') as f:\n",
    "        for line in f:\n",
    "            line = line.rstrip()\n",
    "            if '>' == line[0]:\n",
    "                name = line.strip('>')\n",
    "                data[name] = {}\n",
    "                ctr = 0\n",
    "            elif ctr == 1:\n",
    "                data[name]['seq'] = line\n",
    "            elif ctr == 2:\n",
    "                line = line.split()\n",
    "                data[name]['mfe_deltaG'] = float(line[-1].strip('()'))\n",
    "            elif ctr == 3:\n",
    "                line = line.split()\n",
    "                data[name]['ensemble_deltaG'] = float(line[-1].strip('[]'))\n",
    "            ctr +=1\n",
    "    return data\n",
    "\n",
    "def parse_nearest(fn):\n",
    "    data = {}\n",
    "    nboxes = {}\n",
    "    with open(fn,'r') as f:\n",
    "        for line in f:\n",
    "            line = line.rstrip().split()\n",
    "            name = line[0] + ':' + line[1] + '-' + line[2]\n",
    "            data[name] = {}\n",
    "            data[name]['d'] = int(line[-1])\n",
    "            try:\n",
    "                data[name]['score'] = float(line[-3])\n",
    "            except:\n",
    "                data[name]['score'] = '-1'\n",
    "                \n",
    "                \n",
    "            if line[0] not in nboxes:\n",
    "                nboxes[line[0]] = 1\n",
    "            else:\n",
    "                nboxes[line[0]] += 1\n",
    "    return data,nboxes"
   ]
  },
  {
   "cell_type": "code",
   "execution_count": 3,
   "metadata": {},
   "outputs": [],
   "source": [
    "cenpa_d = parse_monomer_cvg('../data/cenpa_huref.cons_mono.cvg',norm=False)\n",
    "ssdna_d = parse_monomer_cvg('../data/raji_ssdna.cons_mono.cvg',norm=False)\n",
    "norm_d = parse_monomer_cvg('../data/input.human_no_ambig.cons_mono.cvg',norm=True)\n",
    "norm_d2 = parse_monomer_cvg('../data/NA12877.cons_mono.cvg',norm=True)\n",
    "fold_d = parse_rnafold('../data/cons_mono.rnafold.txt')\n",
    "box_d, nb_d= parse_nearest('../data/human_asat.1.25kb.no_ambig.cons_mono.closest_b.bed')\n",
    "\n",
    "names = sorted(cenpa_d.keys())\n",
    "# names = sorted(fold_d.keys())\n",
    "\n",
    "cenpa = np.array([cenpa_d[name] for name in names],dtype=float)\n",
    "ssdna = np.array([ssdna_d[name] for name in names],dtype=float)\n",
    "norm = np.array([norm_d[name] for name in names],dtype=float)\n",
    "norm2 = np.array([norm_d2[name] for name in names],dtype=float)\n",
    "\n",
    "\n",
    "fold = np.array([fold_d[name]['ensemble_deltaG'] for name in names],dtype=float)\n",
    "boxdist = np.array([box_d[name]['d'] for name in names],dtype=float)\n",
    "boxscore = np.array([box_d[name]['score'] for name in names],dtype=float)\n",
    "# nb = np.array([nb_d[name] for name in names])"
   ]
  },
  {
   "cell_type": "code",
   "execution_count": 298,
   "metadata": {},
   "outputs": [],
   "source": [
    "def parse_nearest_filter(fn,names=None,normbed=None):\n",
    "    \"\"\"Parse the bedtools nearest output; limit monomers that are within delta of\n",
    "    the ends of the Sanger read\"\"\"\n",
    "    \n",
    "    if names is None:\n",
    "        nom = {}\n",
    "    else:\n",
    "        nom=names\n",
    "    \n",
    "    norm = {}\n",
    "    if normbed is not None:\n",
    "        with open(normbed,'r') as f:\n",
    "            for line in f:\n",
    "                line = line.rstrip().split()\n",
    "                if len(line) >= 12:\n",
    "                    n = line[0]+':'+line[1]+':'+line[2] + ';' + line[10]+':'+line[11]+':'+line[12]\n",
    "                    norm[n] = float(line[8])\n",
    "    \n",
    "    arr = []\n",
    "    with open(fn,'r') as f:\n",
    "        for line in f:\n",
    "            line = line.rstrip().split()\n",
    "            \n",
    "            n = line[0]+':'+line[1]+':'+line[2]\n",
    "            if len(line)< 12:\n",
    "                n2 = ';'\n",
    "                d1,d2 = -1,-1\n",
    "            else:\n",
    "                n2 = ';'+line[10] + ':' +line[11] + ':' + line[12]\n",
    "                d1,d2 = float(line[-3]),int(line[-1])\n",
    "\n",
    "            if (names is not None) and (n+n2 not in nom):\n",
    "                continue\n",
    "            nom[n+n2] = 1\n",
    "            \n",
    "            try:\n",
    "                d = np.array([float(line[8]),d1,d2])\n",
    "                \n",
    "                if normbed is not None:\n",
    "                    if n+n2 not in norm:\n",
    "                        continue\n",
    "                    if norm[n+n2] == 0:\n",
    "                        continue\n",
    "                    d[0] /= norm[n+n2]\n",
    "                if d1 != -1:\n",
    "                    arr.append(d)\n",
    "            except:\n",
    "                pass\n",
    "    return nom,np.array(arr)"
   ]
  },
  {
   "cell_type": "code",
   "execution_count": 236,
   "metadata": {},
   "outputs": [
    {
     "name": "stdout",
     "output_type": "stream",
     "text": [
      "(2546, 3)\n"
     ]
    },
    {
     "data": {
      "image/png": "[encoded data removed]",
      "text/plain": [
       "<matplotlib.figure.Figure at 0x10d6f5c10>"
      ]
     },
     "metadata": {},
     "output_type": "display_data"
    }
   ],
   "source": [
    "n,X = parse_nearest_filter('../data/human_cenpa.alphoid.sample.mono.nearest_bbox.txt',names=None)\n",
    "print X.shape\n",
    "bins = np.digitize(X[:,0],np.percentile(X[:,0],q=range(25,99,25)))\n",
    "cscheme = ['#e41a1c','#f18c8d','#f9d1d1','#ffffff'][::-1]\n",
    "# cscheme = ['#e41a1c','#f9d1d1'][::-1]\n",
    "\n",
    "\n",
    "plt.figure(figsize=(1.25,1))\n",
    "# plt.yscale('log')\n",
    "sns.violinplot(x=bins,y=np.log(X[:,0]+1),fliersize=0,whis=1.5,width=0.7,palette=cscheme,bw=0.25,lw=1)\n",
    "\n",
    "plt.yticks(size=5)\n",
    "plt.tick_params('y',length=4)\n",
    "# plt.ylim(0,200)\n",
    "plt.xticks([0,1,2,3],['Q1','Q2','Q3','Q4'],size=5,y=0.05)\n",
    "plt.ylabel('log occupancy',size=5)\n",
    "plt.xlabel('CENP-B box strength\\nquartile',size=5)\n",
    "plt.title('CENP-A',size=6,y=0.9)\n",
    "sns.despine(bottom=True,trim=True)\n",
    "plt.tick_params('x',length=0)\n",
    "# plt.savefig('../figures/cenpa_at_cenpb_quartiles_human.svg')\n"
   ]
  },
  {
   "cell_type": "code",
   "execution_count": 237,
   "metadata": {},
   "outputs": [
    {
     "data": {
      "image/png": "[encoded data removed]",
      "text/plain": [
       "<matplotlib.figure.Figure at 0x10d7f7ed0>"
      ]
     },
     "metadata": {},
     "output_type": "display_data"
    }
   ],
   "source": [
    "plt.figure(figsize=(1.25,1))\n",
    "# plt.yscale('log')\n",
    "sns.violinplot(x=bins,y=X[:,1],fliersize=0,whis=1.5,width=0.7,palette=cscheme,bw=0.5,lw=1)\n",
    "\n",
    "plt.yticks(size=5)\n",
    "plt.tick_params('y',length=4)\n",
    "# plt.ylim(0,200)\n",
    "plt.xticks([0,1,2,3],['Q1','Q2','Q3','Q4'],size=5,y=0.05)\n",
    "plt.ylabel('Distance (bp)',size=5)\n",
    "plt.xlabel('CENP-B box strength\\nquartile',size=5)\n",
    "plt.title('Distance to CENP-B box',size=6,y=0.9)\n",
    "sns.despine(bottom=True,trim=True)\n",
    "plt.tick_params('x',length=0)\n",
    "plt.savefig('../figures/cenpb_dist_at_cenpb_quartiles_human.svg')"
   ]
  },
  {
   "cell_type": "code",
   "execution_count": 238,
   "metadata": {},
   "outputs": [
    {
     "data": {
      "image/png": "[encoded data removed]",
      "text/plain": [
       "<matplotlib.figure.Figure at 0x10d7f7810>"
      ]
     },
     "metadata": {},
     "output_type": "display_data"
    }
   ],
   "source": [
    "plt.figure(figsize=(2,2))\n",
    "# plt.yscale('log')\n",
    "sns.boxplot(x=bins,y=X[:,1],fliersize=0,whis=1.5,width=0.7,palette=cscheme)\n",
    "\n",
    "plt.yticks(size=12)\n",
    "# plt.ylim(0,200)\n",
    "plt.xticks([0,1,2,3],['Q1','Q2','Q3','Q4'],size=12,y=0.05)\n",
    "plt.ylabel('FIMO score',size=12)\n",
    "plt.xlabel('CENP-A occupancy quartile',size=12)\n",
    "plt.title('CENP-B box strength',size=14)\n",
    "sns.despine(bottom=True,trim=True)\n",
    "plt.tick_params('x',length=0)\n",
    "# plt.savefig('../figures/cenpb_box_strength_human.svg')"
   ]
  },
  {
   "cell_type": "code",
   "execution_count": 90,
   "metadata": {
    "scrolled": true
   },
   "outputs": [
    {
     "data": {
      "text/plain": [
       "SpearmanrResult(correlation=0.463442941315098, pvalue=9.1616198446144267e-136)"
      ]
     },
     "execution_count": 90,
     "metadata": {},
     "output_type": "execute_result"
    }
   ],
   "source": [
    "spearmanr(X[:,0],X[:,1])"
   ]
  },
  {
   "cell_type": "code",
   "execution_count": 115,
   "metadata": {},
   "outputs": [],
   "source": [
    "n2,Y = parse_nearest_filter('../data/human_ssdna.alphoid.sample.mono.nearest_bbox.txt',names=n)"
   ]
  },
  {
   "cell_type": "code",
   "execution_count": 117,
   "metadata": {
    "scrolled": true
   },
   "outputs": [
    {
     "data": {
      "image/png": "[encoded data removed]",
      "text/plain": [
       "<matplotlib.figure.Figure at 0x10d08d8d0>"
      ]
     },
     "metadata": {},
     "output_type": "display_data"
    }
   ],
   "source": [
    "plt.figure(figsize=(2,2))\n",
    "plt.yscale('log')\n",
    "sns.boxplot(x=bins,y=1000*Y[:,0],fliersize=0,whis=1,width=0.7,palette=cscheme)\n",
    "plt.yticks(size=12)\n",
    "# plt.ylim(10,10000)\n",
    "plt.xticks([0,1,2,3],['Q1','Q2','Q3','Q4'],size=12,y=0.05)\n",
    "plt.ylabel('FIMO score',size=12)\n",
    "plt.xlabel('CENP-A occupancy quartile',size=12)\n",
    "plt.title('CENP-B box strength',size=14)\n",
    "sns.despine(bottom=True,trim=True)\n",
    "plt.tick_params('x',length=0)\n"
   ]
  },
  {
   "cell_type": "code",
   "execution_count": 2,
   "metadata": {},
   "outputs": [],
   "source": [
    "class Interval(object):\n",
    "    \"\"\"Generic class for holding interval information\"\"\"\n",
    "    def __init__(self,start,end,dtype=None,chrom=None,data=None,string=None,strand=None):\n",
    "        self.chrom=chrom\n",
    "        self.start = start\n",
    "        self.end = end\n",
    "        self.dtype=dtype\n",
    "        self.data=data\n",
    "        self.string = string\n",
    "        self.strand = strand\n",
    "    def __len__(self):\n",
    "        return self.end-self.start\n",
    "    def dist(self,I):\n",
    "        x, y = sorted(((self.start,self.end), (I.start,I.end)))\n",
    "            \n",
    "        dist = min(y)-max(x)\n",
    "        \n",
    "        if dist > 0:\n",
    "            return dist\n",
    "        else:\n",
    "            return 0\n",
    "    \n",
    "def bed2intervals(bedfn,col=5):\n",
    "    bed = {}\n",
    "    with open(bedfn,'r') as f:\n",
    "        for line in f:\n",
    "            line = line.rstrip().split()\n",
    "            \n",
    "            chrom = line[0]\n",
    "            s,e = int(line[1]),int(line[2])\n",
    "            score = float(line[col-1])\n",
    "            strand = line[5]\n",
    "            \n",
    "            if chrom not in bed:\n",
    "                bed[chrom] = []\n",
    "            \n",
    "            I = Interval(s,e,chrom=chrom,data=score,strand=strand,string='\\t'.join(line))\n",
    "            bed[chrom].append(I) \n",
    "    \n",
    "    for chrom in bed.iterkeys():\n",
    "        bed[chrom] = sorted(bed[chrom],key=lambda k:k.start)\n",
    "    \n",
    "    return bed\n",
    "\n",
    "def get_closest(mono_fn,box_fn,outfn,delta=50,orientation='both'):\n",
    "\n",
    "    def does_ovl(a1,b1,a2,b2):\n",
    "        return max(a1,a2) <= min(b1,b2)\n",
    "    \n",
    "    def get_best(M,blist):\n",
    "        if orientation != 'both':\n",
    "            if orientation == 'up':\n",
    "                if M.strand == '+':\n",
    "                    s,e = M.start-delta,M.end\n",
    "                else:\n",
    "                    s,e = M.start,M.end-delta\n",
    "            if orientation == 'down':\n",
    "                if M.strand == \"+\":\n",
    "                    s,e = M.start,M.end+delta\n",
    "                else:\n",
    "                    s,e = M.start-delta,M.end\n",
    "        else:     \n",
    "            s,e = M.start - delta, M.end + delta\n",
    "        candidates = []\n",
    "        for b in blist:\n",
    "            if does_ovl(s,e,b.start,b.end):\n",
    "                candidates.append(b)\n",
    "        \n",
    "        if len(candidates) == 0:\n",
    "            return -1\n",
    "        else:\n",
    "            candidate = sorted(candidates,key=lambda k: (k.data,-k.start))\n",
    "            return candidates[-1]\n",
    "    \n",
    "    \n",
    "    monos = bed2intervals(mono_fn,col=9)\n",
    "    boxes = bed2intervals(box_fn)\n",
    "    \n",
    "    out = open(outfn,'w')\n",
    "    \n",
    "    for chrom in monos.iterkeys():\n",
    "        if chrom not in boxes:\n",
    "            continue\n",
    "        \n",
    "        for m in monos[chrom]:\n",
    "            b = get_best(m,boxes[chrom])\n",
    "            \n",
    "            if b == -1:\n",
    "                dist = \"-1\"\n",
    "                out.write (m.string + \"\\t\" + str(b) +\"\\t\"+dist+\"\\n\")\n",
    "            else:\n",
    "                dist = str(m.dist(b))\n",
    "                out.write(m.string+\"\\t\"+b.string+\"\\t\"+dist+\"\\n\")            \n",
    "            \n",
    "    out.close()"
   ]
  },
  {
   "cell_type": "code",
   "execution_count": 77,
   "metadata": {},
   "outputs": [],
   "source": [
    "delta = 340\n",
    "bfn = '../data/human_asat.1.25kb.no_ambig.sample.1k.cenp_b.fimo.bed'\n",
    "mfn = '../data/human_cenpa.alphoid.sample.mono.cvg'\n",
    "\n",
    "get_closest(mfn,bfn,'../data/human_cenpa.alphoid.sample.mono.nearest_bbox.txt',orientation='both',delta=delta)\n",
    "\n",
    "bfn = '../data/human_asat.1.25kb.no_ambig.sample.1k.cenp_b.fimo.bed'\n",
    "mfn = '../data/human_ssdna.alphoid.sample.mono.cvg'\n",
    "\n",
    "get_closest(mfn,bfn,'../data/human_ssdna.alphoid.sample.mono.nearest_bbox.txt',orientation='both',delta=delta)\n",
    "\n",
    "bfn = '../data/human_asat.1.25kb.no_ambig.sample.1k.cenp_b.fimo.bed'\n",
    "mfn = '../data/human_ssdna_sim.alphoid.sample.mono.cvg'\n",
    "\n",
    "# get_closest(mfn,bfn,'../data/human_ssdna_sim.alphoid.sample.mono.nearest_bbox.txt',orientation='both',delta=delta)\n",
    "\n",
    "# bfn = '../data/human_asat.1.25kb.no_ambig.sample.1k.cenp_b.fimo.bed'\n",
    "# mfn = '../data/human_wgs.alphoid.sample.mono.cvg'\n",
    "\n",
    "# get_closest(mfn,bfn,'../data/human_wgs.alphoid.sample.mono.nearest_bbox.txt',orientation='both',delta=delta)\n",
    "\n",
    "bfn = '../data/human_asat.1.25kb.no_ambig.sample.1k.cenp_b.fimo.bed'\n",
    "mfn = '../data/human_input.alphoid.sample.mono.cvg'\n",
    "\n",
    "get_closest(mfn,bfn,'../data/human_input.alphoid.sample.mono.nearest_bbox.txt',orientation='both',delta=delta)"
   ]
  },
  {
   "cell_type": "markdown",
   "metadata": {},
   "source": [
    "#### Mouse"
   ]
  },
  {
   "cell_type": "code",
   "execution_count": 337,
   "metadata": {},
   "outputs": [],
   "source": [
    "bfn = '../data/misat_118-122.1kb.cenp_b.fimo.bed'\n",
    "mfn = '../data/mouse_cenpa.misat.mono.cvg'\n",
    "\n",
    "get_closest(mfn,bfn,'../data/mouse_cenpa.misat.mono.nearest_bbox.txt',orientation='both',delta=20)\n",
    "\n",
    "bfn = '../data/misat_118-122.1kb.cenp_b.fimo.bed'\n",
    "mfn = '../data/mouse_input.misat.mono.cvg'\n",
    "\n",
    "get_closest(mfn,bfn,'../data/mouse_input.misat.mono.nearest_bbox.txt',orientation='both',delta=20)\n",
    "\n",
    "bfn = '../data/misat_118-122.1kb.cenp_b.fimo.bed'\n",
    "mfn = '../data/mouse_ssdna_activ.misat.mono.cvg'\n",
    "\n",
    "get_closest(mfn,bfn,'../data/mouse_ssdna_activ.misat.mono.nearest_bbox.txt',orientation='both',delta=20)\n",
    "\n",
    "bfn = '../data/misat_118-122.1kb.cenp_b.fimo.bed'\n",
    "mfn = '../data/mouse_ssdna_rest.misat.mono.cvg'\n",
    "\n",
    "get_closest(mfn,bfn,'../data/mouse_ssdna_rest.misat.mono.nearest_bbox.txt',orientation='both',delta=20)\n",
    "\n",
    "\n",
    "bfn = '../data/misat_118-122.1kb.cenp_b.fimo.bed'\n",
    "mfn = '../data/mouse_wgs.misat.mono.cvg'\n",
    "\n",
    "get_closest(mfn,bfn,'../data/mouse_.mono.nearest_bbox.txt',orientation='both',delta=20)\n",
    "\n",
    "bfn = '../data/misat_118-122.1kb.cenp_b.fimo.bed'\n",
    "mfn = '../data/mouse_ssdna_control.misat.mono.cvg'\n",
    "\n",
    "get_closest(mfn,bfn,'../data/mouse_ssdna_control.misat.mono.nearest_bbox.txt',orientation='both',delta=20)"
   ]
  },
  {
   "cell_type": "code",
   "execution_count": null,
   "metadata": {},
   "outputs": [],
   "source": [
    "n,X = parse_nearest_filter('../data/mouse_cenpa.misat.mono.nearest_bbox.txt',names=None,\n",
    "                          normbed='../data/mouse_ssdna_control.misat.mono.nearest_bbox.txt')\n",
    "print X.shape\n",
    "bins = np.digitize(X[:,0],np.percentile(X[:,0],q=range(50,100,50)))\n",
    "cscheme = ['#e41a1c','#ffffff'][::-1]\n",
    "# cscheme = ['#e41a1c','#f9d1d1'][::-1]\n",
    "\n",
    "\n",
    "plt.figure(figsize=(1.25,1))\n",
    "# plt.yscale('log')\n",
    "sns.boxplot(x=bins,y=X[:,0],fliersize=0,whis=1.5,width=0.7,palette=cscheme)\n",
    "\n",
    "\n",
    "\n",
    "\n",
    "plt.yticks(size=5)\n",
    "plt.tick_params('y',length=4)\n",
    "# plt.ylim(0,1000)\n",
    "plt.xticks([0,1,2,3],['Q1','Q2','Q3','Q4'],size=5,y=0.05)\n",
    "plt.ylabel('log occupancy',size=5)\n",
    "plt.xlabel('CENP-B box strength\\nquartile',size=5)\n",
    "plt.title('CENP-A',size=6,y=0.9)\n",
    "sns.despine(bottom=True,trim=True)\n",
    "plt.tick_params('x',length=0)\n",
    "# plt.savefig('../figures/cenpa_at_cenpb_quartiles_human.svg')\n",
    "\n"
   ]
  },
  {
   "cell_type": "code",
   "execution_count": 5,
   "metadata": {},
   "outputs": [],
   "source": [
    "def per_read_summation(cvgfn,log=False,scale=1):\n",
    "    reads = {}\n",
    "    with open(cvgfn,'r') as f:\n",
    "        for line in f:\n",
    "            line = line.strip().split()\n",
    "            val = float(line[8])\n",
    "            if val == 0:\n",
    "                continue\n",
    "            if line[0] not in reads:\n",
    "                reads[line[0]] = val\n",
    "            else:\n",
    "                reads[line[0]] += val\n",
    "    \n",
    "    for rname in reads.keys():\n",
    "        reads[rname] *= scale\n",
    "        if log:\n",
    "            reads[rname] = np.log(reads[rname])\n",
    "    \n",
    "    return reads\n",
    "\n",
    "\n",
    "def per_read_boxes(bedfn,thresh=1e-3,score=False):\n",
    "    reads = {}\n",
    "    with open(bedfn,'r') as f:\n",
    "        for line in f:\n",
    "            line = line.strip().split()\n",
    "            pv = float(line[4])\n",
    "            if pv <= thresh:\n",
    "                \n",
    "                if score:\n",
    "                    val = float(line[-2])\n",
    "                else:\n",
    "                    val = 1\n",
    "                \n",
    "                if line[0] not in reads:\n",
    "                    reads[line[0]] = val\n",
    "                else:\n",
    "                    reads[line[0]] += val\n",
    "    return reads\n",
    "\n",
    "def get_lens(lenfn):\n",
    "    lens = {}\n",
    "    with open(lenfn,'r') as f:\n",
    "        for line in f:\n",
    "            line = line.rstrip().split()\n",
    "            lens[line[0]] = int(line[1])\n",
    "    return lens\n",
    "\n",
    "def corr_dicts(r1,r2):\n",
    "    data = []\n",
    "    \n",
    "    name_order = []\n",
    "    for rname in set(r1.keys()).intersection(set(r2.keys())):\n",
    "        data.append([r1[rname],r2[rname]])\n",
    "        name_order.append(rname)\n",
    "    return name_order,np.array(data)\n",
    "\n",
    "def corr_files(cvgfn1,cvgfn2,scale1=1,scale2=1):\n",
    "    r1 = per_read_summation(cvgfn1,scale=scale1)\n",
    "    r2 = per_read_summation(cvgfn2,scale=scale2)\n",
    "    \n",
    "    return corr_dicts(r1,r2)\n",
    "    \n",
    "def norm_file(cvgfn1,cvgfn2,scale1=1,scale2=1,log=True):\n",
    "    r1 = per_read_summation(cvgfn1,scale=scale1)\n",
    "    r2 = per_read_summation(cvgfn2,scale=scale2)\n",
    "    \n",
    "    normed = {}\n",
    "    \n",
    "    for rname in set(r1.keys()).intersection(set(r2.keys())):\n",
    "        if r2[rname] == 0:\n",
    "            continue\n",
    "        if log:\n",
    "            normed[rname] = np.log2(r1[rname]+1)-np.log2(r2[rname]+1)\n",
    "        else:\n",
    "            normed[rname] = (r1[rname]+1)/(r2[rname]+1)\n",
    "    return normed"
   ]
  },
  {
   "cell_type": "code",
   "execution_count": 6,
   "metadata": {
    "collapsed": true
   },
   "outputs": [],
   "source": [
    "# boxes = per_read_boxes('../data/misat_118-122.1kb.cenp_b.fimo.bed',score=False,thresh=1e-7)\n",
    "boxes = per_read_boxes('../data/human_asat.1.25kb.cenp_b.fimo.bed',score=True,thresh=0.95e-7)\n",
    "asats = per_read_boxes('../data/human_asat.1.25kb.no_ambig.sample.alphoid.bed',score=False,thresh=np.inf)\n",
    "\n",
    "lens = get_lens('../data/human_asat.1.25kb.no_ambig.sizes')"
   ]
  },
  {
   "cell_type": "code",
   "execution_count": 7,
   "metadata": {
    "scrolled": false
   },
   "outputs": [
    {
     "name": "stdout",
     "output_type": "stream",
     "text": [
      "(843, 2)\n"
     ]
    }
   ],
   "source": [
    "f1 = '../data/human_cenpa.alphoid.sample.mono.nearest_bbox.txt'\n",
    "n1 = '../data/human_input.alphoid.sample.mono.cvg'\n",
    "\n",
    "f2 = '../data/human_ssdna.alphoid.sample.mono.nearest_bbox.txt'\n",
    "n2 = '../data/human_wgs.alphoid.sample.mono.cvg'\n",
    "\n",
    "# f1_s = 3e8*(18557894+127084)/32167098\n",
    "f1_s = 3e9/(18557894+127084)\n",
    "n1_s = (63428+12140)/17828342\n",
    "# n1_s = 3e9/(63428+12140)\n",
    "\n",
    "f2_s = (5748089+4523061)/116355230\n",
    "# f2_s = 3e9/(5748089+4523061)\n",
    "\n",
    "# SIM\n",
    "# n2_s = 3e8*(42103008+2075713)/54820904\n",
    "# n2_s = 3e9/(42103008+2075713)\n",
    "\n",
    "# WGS\n",
    "n2_s = (8341837+1108237)/307767790\n",
    "# n2_s = 3e9/(8341837+1108237)\n",
    "# n1_s = n2_s\n",
    "\n",
    "\n",
    "# d1 = norm_file(f1,n1,f1_s,n1_s,log=False)\n",
    "d1 = per_read_summation(f1,log=False,scale=f1_s)\n",
    "d1n = per_read_summation(n1,log=False,scale=n1_s)\n",
    "# d2 = norm_file(f2,n2,f2_s,n2_s,log=False)\n",
    "d2 = per_read_summation(f2,log=False,scale=f2_s)\n",
    "d2n = per_read_summation(n2,log=False,scale=n2_s)\n",
    "\n",
    "\n",
    "\n",
    "for rname in d1.keys():\n",
    "#     if rname in asats and rname in lens:\n",
    "#         d1[rname] *= (asats[rname]/lens[rname])\n",
    "    if rname in d1n and rname in asats:\n",
    "        d1[rname] /= (d1n[rname])#*(lens[rname]/asats[rname])\n",
    "    else:\n",
    "        del d1[rname]\n",
    "\n",
    "for rname in d2.keys():\n",
    "#     if rname in asats and rname in lens:\n",
    "#         d2[rname] *= (asats[rname]/lens[rname])      \n",
    "    if rname in d2n and rname in asats:\n",
    "#         d2[rname] /= (d2n[rname])#*(lens[rname]/asats[rname])\n",
    "        continue\n",
    "    else:\n",
    "        del d2[rname]\n",
    "\n",
    "order,X = corr_dicts(d1,d2)\n",
    "\n",
    "print X.shape"
   ]
  },
  {
   "cell_type": "code",
   "execution_count": 8,
   "metadata": {},
   "outputs": [],
   "source": [
    "c = []\n",
    "for rname in order:\n",
    "    if rname in boxes:\n",
    "        c.append(boxes[rname])\n",
    "    else:\n",
    "        c.append(-1)\n",
    "c = np.array(c)\n",
    "\n",
    "bins = np.percentile(c,q=np.arange(25,76,25))\n",
    "binned = np.digitize(c,bins)\n",
    "# cdict = {1:cm.Paired(0),2:cm.Paired(1),3:cm.Paired(4),4:cm.Paired(5)}\n",
    "# cdict = {4:'#e41a1c',3:'#f18c8d',2:'#f9d1d1',1:'lightgrey'}\n",
    "cdict = {3:'#e41a1c',2:'#f18c8d',1:'grey'}\n",
    "\n",
    "\n",
    "colors = [cdict[cc] for cc in binned]\n"
   ]
  },
  {
   "cell_type": "code",
   "execution_count": 37,
   "metadata": {},
   "outputs": [
    {
     "data": {
      "image/png": "[encoded data removed]",
      "text/plain": [
       "<matplotlib.figure.Figure at 0x11ad4d850>"
      ]
     },
     "metadata": {},
     "output_type": "display_data"
    }
   ],
   "source": [
    "xmin = np.floor(np.log(np.min(X[:,0]/10000)))\n",
    "xmax = np.ceil(np.log(np.max(X[:,0]/10000)))\n",
    "ymin = np.floor(np.log(np.min(X[:,1])))\n",
    "ymax = np.ceil(np.log(np.max(X[:,1])))\n",
    "\n",
    "xbins=np.logspace(xmin,xmax,75)\n",
    "ybins=np.logspace(2,6,30)\n",
    "\n",
    "g = sns.JointGrid(X[:,0]/10000,X[:,1],xlim=[10**0,10**5],ylim=[10**2,10**6],space=0,size=5)\n",
    "# g = sns.JointGrid(X[:,0],X[:,1],space=0,size=2.5)\n",
    "\n",
    "\n",
    "g.ax_marg_x.hist(X[:,0]/10000, color='darkgrey', alpha=1,bins=xbins)\n",
    "g.ax_marg_y.hist(X[:,1], color='darkgrey', alpha=1,bins=ybins,orientation='horizontal')\n",
    "g.plot_joint(plt.scatter, color=colors ,s=20,lw=0,zorder=1,rasterized=True)\n",
    "\n",
    "ax = g.ax_joint\n",
    "ax.set_xscale('log')\n",
    "ax.set_yscale('log')\n",
    "g.ax_marg_x.set_xscale('log')\n",
    "g.ax_marg_y.set_yscale('log')\n",
    "g.ax_marg_y.tick_params(which='both',length=0)\n",
    "g.ax_marg_x.tick_params(which='both',length=0)\n",
    "\n",
    "ax.tick_params(labelsize=16,length=14)\n",
    "ax.tick_params(length=7, which='minor')\n",
    "ax.set_xlabel('CENP-A occupancy',size=22)\n",
    "ax.set_ylabel('Permanganate-seq signal',size=22)\n",
    "\n",
    "plt.savefig('../figures/human_corr_cenp_b_boxes.svg',dpi=300)"
   ]
  },
  {
   "cell_type": "code",
   "execution_count": 48,
   "metadata": {},
   "outputs": [
    {
     "data": {
      "image/png": "[encoded data removed]",
      "text/plain": [
       "<matplotlib.figure.Figure at 0x11944af10>"
      ]
     },
     "metadata": {},
     "output_type": "display_data"
    }
   ],
   "source": [
    "xmin = np.floor(np.log(np.min(X[:,0]/10000)))\n",
    "xmax = np.ceil(np.log(np.max(X[:,0]/10000)))\n",
    "ymin = np.floor(np.log(np.min(X[:,1]/10000)))\n",
    "ymax = np.ceil(np.log(np.max(X[:,1]/10000)))\n",
    "\n",
    "xbins=np.logspace(xmin,xmax,75)\n",
    "ybins=np.logspace(ymin,ymax,75)\n",
    "\n",
    "g = sns.JointGrid(X[:,0]/10000,X[:,1]/10000,space=0,size=2.5,\n",
    "                 xlim=[10**0,10**5],ylim=[1e-2,10**2])\n",
    "\n",
    "g.ax_marg_x.hist(X[:,0]/10000, color='darkgrey', alpha=1,bins=xbins)\n",
    "g.ax_marg_y.hist(X[:,1]/10000, color='darkgrey', alpha=1,bins=ybins,orientation='horizontal')\n",
    "# g.ax_joint.axvspan(np.exp(xmin),np.exp(-1.25),np.exp(ymin),np.exp(ymax),color='grey',zorder=0,alpha=0.1)\n",
    "# g.ax_joint.axhspan(np.exp(ymin),np.exp(-1.2),np.exp(xmin),np.exp(xmax),color='grey',zorder=0,alpha=0.1)\n",
    "# g.ax_joint.axvspan(np.exp(-1.25),np.exp(xmax),np.exp(-0.76),np.exp(ymax),color='red',zorder=0,alpha=0.1)\n",
    "g.plot_joint(plt.scatter, color=colors,s=25,lw=0,zorder=1,rasterized=True)\n",
    "\n",
    "ax = g.ax_joint\n",
    "ax.set_xscale('log')\n",
    "ax.set_yscale('log')\n",
    "g.ax_marg_x.set_xscale('log')\n",
    "g.ax_marg_y.set_yscale('log')\n",
    "g.ax_marg_y.tick_params(which='both',length=0)\n",
    "g.ax_marg_x.tick_params(which='both',length=0)\n",
    "\n",
    "ax.tick_params(labelsize=8)\n",
    "ax.set_xlabel('CENP-A occupancy',size=11)\n",
    "ax.set_ylabel('Permanganate-seq signal',size=11)\n",
    "\n",
    "plt.savefig('../figures/human_corr_cenp_b_boxes.svg',dpi=300)"
   ]
  },
  {
   "cell_type": "code",
   "execution_count": 58,
   "metadata": {},
   "outputs": [],
   "source": [
    "# boxes = per_read_boxes('../data/misat_118-122.1kb.cenp_b.fimo.bed',score=False,thresh=1e-7)\n",
    "boxes = per_read_boxes('../data/misat_118-122.1kb.cenp_b.fimo.bed',score=True,thresh=0.95e-7)\n",
    "asats = per_read_boxes('../data/misat.118-122.1kb.misat.blast.bed',score=False,thresh=np.inf)\n",
    "\n",
    "c = []\n",
    "for rname in order:\n",
    "    if rname in boxes:\n",
    "        c.append(boxes[rname])\n",
    "    else:\n",
    "        c.append(-1)\n",
    "c = np.array(c)\n",
    "\n",
    "bins = np.percentile(c,q=np.arange(33,67,33))\n",
    "binned = np.digitize(c,bins)\n",
    "# cdict = {1:cm.Paired(0),2:cm.Paired(1),3:cm.Paired(4),4:cm.Paired(5)}\n",
    "# cdict = {3:'#e41a1c',2:'#f18c8d',1:'#f9d1d1',0:'lightgrey'}\n",
    "cdict = {2:'#e41a1c',1:'#f18c8d',0:'grey'}\n",
    "\n",
    "colors = [cdict[cc] for cc in binned]\n"
   ]
  },
  {
   "cell_type": "code",
   "execution_count": 57,
   "metadata": {},
   "outputs": [
    {
     "name": "stdout",
     "output_type": "stream",
     "text": [
      "(203, 2)\n"
     ]
    }
   ],
   "source": [
    "f1 = '../data/mouse_cenpa.misat.mono.cvg'\n",
    "n1 = '../data/mouse_input.misat.mono.cvg'\n",
    "\n",
    "f2 = '../data/mouse_ssdna_activ.misat.mono.cvg'\n",
    "n2 = '../data/mouse_ssdna_control.misat.mono.cvg'\n",
    "\n",
    "\n",
    "d1 = norm_file(f1,n1,1,1,log=False)\n",
    "# d1 = per_read_summation(f1,log=False,scale=1)\n",
    "# d1n = per_read_summation(n1,log=False,scale=1)\n",
    "d2 = norm_file(f2,n2,1,1,log=False)\n",
    "# d2 = per_read_summation(f2,log=False,scale=1)\n",
    "# d2n = per_read_summation(n2,log=False,scale=1)\n",
    "\n",
    "# for rname in d1.keys():\n",
    "#     if rname in d1n:\n",
    "#         d1[rname] /= d1n[rname]\n",
    "#     else:\n",
    "#         del d1[rname]\n",
    "\n",
    "# for rname in d2.keys():\n",
    "#     if rname in d2n:\n",
    "#         d2[rname] /= d2n[rname]\n",
    "#     else:\n",
    "#         del d2[rname]\n",
    "\n",
    "order,X = corr_dicts(d1,d2)\n",
    "\n",
    "print X.shape"
   ]
  },
  {
   "cell_type": "code",
   "execution_count": 59,
   "metadata": {},
   "outputs": [
    {
     "data": {
      "text/plain": [
       "<matplotlib.text.Text at 0x11583e650>"
      ]
     },
     "execution_count": 59,
     "metadata": {},
     "output_type": "execute_result"
    },
    {
     "data": {
      "image/png": "[encoded data removed]",
      "text/plain": [
       "<matplotlib.figure.Figure at 0x114bf0750>"
      ]
     },
     "metadata": {},
     "output_type": "display_data"
    }
   ],
   "source": [
    "xmin = np.floor(np.log(np.min(X[:,0])))\n",
    "xmax = np.ceil(np.log(np.max(X[:,0])))\n",
    "ymin = np.floor(np.log(np.min(X[:,1])))\n",
    "ymax = np.ceil(np.log(np.max(X[:,1])))\n",
    "\n",
    "xbins=np.logspace(xmin,xmax,75)\n",
    "ybins=np.logspace(ymin,ymax,75)\n",
    "\n",
    "g = sns.JointGrid(X[:,0],X[:,1],xlim=[10**-1.5,10**3.5],ylim=[10**-0.75,10**1],space=0,size=2.5)\n",
    "\n",
    "g.ax_marg_x.hist(X[:,0], color='darkgrey', alpha=1,bins=xbins)\n",
    "g.ax_marg_y.hist(X[:,1], color='darkgrey', alpha=1,bins=ybins,orientation='horizontal')\n",
    "# g.ax_joint.axvspan(np.exp(xmin),np.exp(-1.25),np.exp(ymin),np.exp(ymax),color='grey',zorder=0,alpha=0.1)\n",
    "# g.ax_joint.axhspan(np.exp(ymin),np.exp(-1.2),np.exp(xmin),np.exp(xmax),color='grey',zorder=0,alpha=0.1)\n",
    "# g.ax_joint.axvspan(np.exp(-1.25),np.exp(xmax),np.exp(-0.76),np.exp(ymax),color='red',zorder=0,alpha=0.1)\n",
    "g.plot_joint(plt.scatter, color=colors,s=25,lw=0,zorder=1,rasterized=True)\n",
    "\n",
    "ax = g.ax_joint\n",
    "ax.set_xscale('log')\n",
    "ax.set_yscale('log')\n",
    "g.ax_marg_x.set_xscale('log')\n",
    "g.ax_marg_y.set_yscale('log')\n",
    "g.ax_marg_y.tick_params(which='both',length=0)\n",
    "g.ax_marg_x.tick_params(which='both',length=0)\n",
    "\n",
    "ax.tick_params(labelsize=8)\n",
    "ax.set_xlabel('CENP-A occupancy',size=11)\n",
    "ax.set_ylabel('Permanganate-seq signal',size=11)\n",
    "\n",
    "plt.savefig('../figures/mouse_corr_cenp_b_boxes.svg',dpi=300)"
   ]
  }
 ],
 "metadata": {
  "kernelspec": {
   "display_name": "Python 2",
   "language": "python",
   "name": "python2"
  },
  "language_info": {
   "codemirror_mode": {
    "name": "ipython",
    "version": 2
   },
   "file_extension": ".py",
   "mimetype": "text/x-python",
   "name": "python",
   "nbconvert_exporter": "python",
   "pygments_lexer": "ipython2",
   "version": "2.7.16"
  }
 },
 "nbformat": 4,
 "nbformat_minor": 2
}
